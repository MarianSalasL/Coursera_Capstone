{
  "nbformat": 4,
  "nbformat_minor": 0,
  "metadata": {
    "colab": {
      "name": "CAPSTONE.ipynb",
      "provenance": [],
      "collapsed_sections": []
    },
    "kernelspec": {
      "name": "python3",
      "display_name": "Python 3"
    }
  },
  "cells": [
    {
      "cell_type": "markdown",
      "metadata": {
        "id": "QCbTyIM7rmkG"
      },
      "source": [
        "# Capstone Project - The Battle of the Neighborhoods "
      ]
    },
    {
      "cell_type": "markdown",
      "metadata": {
        "id": "eEtj6bg6t73z"
      },
      "source": [
        "## Table of contents\n",
        "* [Introduction: Business Problem](#introduction)\n",
        "* [Data](#data)\n",
        "* [Methodology](#methodology)\n",
        "* [Analysis](#analysis)\n",
        "* [Results and Discussion](#results)\n",
        "* [Conclusion](#conclusion)"
      ]
    },
    {
      "cell_type": "markdown",
      "metadata": {
        "id": "FiogLwf7uHpa"
      },
      "source": [
        "\n",
        "## Introduction: Business Problem <a name=\"introduction\"></a>"
      ]
    },
    {
      "cell_type": "markdown",
      "metadata": {
        "id": "_JeCftFTuLPA"
      },
      "source": [
        "The objective of this project, is give the people a tool that they will can explore their neighborhood with, it will can help people than want to know about the best site to live in Carabobo Venezuela.\n",
        "\n",
        "Carabobo is an industrial state, whence a lot of people need to migrate to this state, for this reason it is important to have a tool that can help people to make better and smarter decisions.\n",
        "\n",
        "In this project I'm going to create an analysis of features for people who are searching about the best places, doing a comparative analysis between neighborhoods.\n",
        "\n",
        "It will help people to get best decisions about the sites that they visit, improving their satisfaction.\n",
        "\n"
      ]
    },
    {
      "cell_type": "markdown",
      "metadata": {
        "id": "3FxB_TNlwcBb"
      },
      "source": [
        "\n",
        "## Data <a name=\"data\"></a>"
      ]
    },
    {
      "cell_type": "markdown",
      "metadata": {
        "id": "r8qk3vR2xR2D"
      },
      "source": [
        "**Foursquare API:**\n",
        "\n",
        "In the project I will use Forsquare API, It has a big database which provides locations and details about business in this locations\n",
        "\n",
        "**Clustering Approach:**\n",
        "\n",
        "To compare the neighborhood, I decided to explore neighborhoods, segment them and group into clusters to find simillarities.\n",
        "\n",
        "To cluster the data I need a form of unsupervised machine learning (K-means clustering algorithm)\n",
        "\n",
        "**Libraries**\n",
        "\n",
        "Pandas: For dataframes.\n",
        "\n",
        "Folium: Python visualization library would be used to visualize the neighborhoods cluster distribution of using interactive leaflet map.\n",
        "\n",
        "Scikit Learn: For importing k-means clustering.\n",
        "\n",
        "Geocoder: To retrieve Location Data.\n",
        "\n",
        "Beautiful Soup and Requests: To scrap the web pages.\n",
        "\n",
        "Matplotlib: to make plots\n",
        "\n",
        "Numpy: To manage the math data"
      ]
    },
    {
      "cell_type": "markdown",
      "metadata": {
        "id": "SKHuEBTt1UBs"
      },
      "source": [
        "## Methodology <a name=\"methodology\"></a>"
      ]
    },
    {
      "cell_type": "markdown",
      "metadata": {
        "id": "-V6egS-D6lv4"
      },
      "source": [
        "In this project I detected areas in Carabobo, Valencia, next to it I found the most important venues.\n",
        "\n",
        "In first step we have collected the required data: location of zone in Carabobo. We have also identified the principals venues (according to Foursquare categorization).\n",
        "\n",
        "Second step in my analysis wasthecalculation and exploration of ‘venuesdensity' across different areas of Carabobo.\n",
        "\n",
        "In third and final step I create clusters of locations. I present map of all such locations but also create clusters (using k-means clustering) of those locations to identify general zones / neighborhoods / addresses which should be a starting point to people who wants to lives in Carabobo."
      ]
    },
    {
      "cell_type": "code",
      "metadata": {
        "colab": {
          "base_uri": "https://localhost:8080/"
        },
        "id": "mmOHClBVEPwW",
        "outputId": "df79a714-56c4-481b-cc5a-465ca692b33d"
      },
      "source": [
        "!pip install geocoder\n",
        "import pandas as pd\n",
        "import numpy as np\n",
        "import matplotlib.cm as cm\n",
        "import matplotlib.colors as colors\n",
        "import requests\n",
        "import geocoder\n",
        "import folium \n",
        "from bs4 import BeautifulSoup\n",
        "from sklearn.cluster import KMeans\n",
        "from geopy.geocoders import Nominatim"
      ],
      "execution_count": null,
      "outputs": [
        {
          "output_type": "stream",
          "text": [
            "Requirement already satisfied: geocoder in /usr/local/lib/python3.6/dist-packages (1.38.1)\n",
            "Requirement already satisfied: ratelim in /usr/local/lib/python3.6/dist-packages (from geocoder) (0.1.6)\n",
            "Requirement already satisfied: click in /usr/local/lib/python3.6/dist-packages (from geocoder) (7.1.2)\n",
            "Requirement already satisfied: requests in /usr/local/lib/python3.6/dist-packages (from geocoder) (2.23.0)\n",
            "Requirement already satisfied: future in /usr/local/lib/python3.6/dist-packages (from geocoder) (0.16.0)\n",
            "Requirement already satisfied: six in /usr/local/lib/python3.6/dist-packages (from geocoder) (1.15.0)\n",
            "Requirement already satisfied: decorator in /usr/local/lib/python3.6/dist-packages (from ratelim->geocoder) (4.4.2)\n",
            "Requirement already satisfied: idna<3,>=2.5 in /usr/local/lib/python3.6/dist-packages (from requests->geocoder) (2.10)\n",
            "Requirement already satisfied: certifi>=2017.4.17 in /usr/local/lib/python3.6/dist-packages (from requests->geocoder) (2020.12.5)\n",
            "Requirement already satisfied: urllib3!=1.25.0,!=1.25.1,<1.26,>=1.21.1 in /usr/local/lib/python3.6/dist-packages (from requests->geocoder) (1.24.3)\n",
            "Requirement already satisfied: chardet<4,>=3.0.2 in /usr/local/lib/python3.6/dist-packages (from requests->geocoder) (3.0.4)\n"
          ],
          "name": "stdout"
        }
      ]
    },
    {
      "cell_type": "code",
      "metadata": {
        "colab": {
          "base_uri": "https://localhost:8080/",
          "height": 462
        },
        "id": "_e4PJKN2FQS6",
        "outputId": "b1a4494a-605f-4cf3-e88b-d1c5b2455979"
      },
      "source": [
        "url=('https://es.wikipedia.org/wiki/Anexo:Municipios_de_Carabobo')\n",
        "table = pd.read_html(url)\n",
        "df=pd.DataFrame(np.concatenate(table))\n",
        "df.columns=['PRI','SEG','Borough','TER','CUAR','QUIN','SEX','Neighborhood']\n",
        "df2=df.drop(['PRI', 'SEG', 'TER','CUAR','QUIN','SEX'], axis=1)\n",
        "df2.dropna(subset = [\"Neighborhood\"], inplace=True)\n",
        "df2[\"Neighborhood\"] = df2[\"Neighborhood\"].str[2:]\n",
        "df2.groupby(['Borough'])['Neighborhood'].apply(','.join).reset_index()\n"
      ],
      "execution_count": null,
      "outputs": [
        {
          "output_type": "execute_result",
          "data": {
            "text/html": [
              "<div>\n",
              "<style scoped>\n",
              "    .dataframe tbody tr th:only-of-type {\n",
              "        vertical-align: middle;\n",
              "    }\n",
              "\n",
              "    .dataframe tbody tr th {\n",
              "        vertical-align: top;\n",
              "    }\n",
              "\n",
              "    .dataframe thead th {\n",
              "        text-align: right;\n",
              "    }\n",
              "</style>\n",
              "<table border=\"1\" class=\"dataframe\">\n",
              "  <thead>\n",
              "    <tr style=\"text-align: right;\">\n",
              "      <th></th>\n",
              "      <th>Borough</th>\n",
              "      <th>Neighborhood</th>\n",
              "    </tr>\n",
              "  </thead>\n",
              "  <tbody>\n",
              "    <tr>\n",
              "      <th>0</th>\n",
              "      <td>Bejuma</td>\n",
              "      <td>Bejuma,Canoabo,Simón Bolívar</td>\n",
              "    </tr>\n",
              "    <tr>\n",
              "      <th>1</th>\n",
              "      <td>Carlos Arvelo</td>\n",
              "      <td>Belén,Güigüe,Tacarigua</td>\n",
              "    </tr>\n",
              "    <tr>\n",
              "      <th>2</th>\n",
              "      <td>Diego Ibarra</td>\n",
              "      <td>Aguas Calientes,Mariara</td>\n",
              "    </tr>\n",
              "    <tr>\n",
              "      <th>3</th>\n",
              "      <td>Guacara</td>\n",
              "      <td>Ciudad Alianza, Guacara, Yagua</td>\n",
              "    </tr>\n",
              "    <tr>\n",
              "      <th>4</th>\n",
              "      <td>Juan José Mora</td>\n",
              "      <td>Morón, Urama</td>\n",
              "    </tr>\n",
              "    <tr>\n",
              "      <th>5</th>\n",
              "      <td>Libertador</td>\n",
              "      <td>Independencia, Tocuyito</td>\n",
              "    </tr>\n",
              "    <tr>\n",
              "      <th>6</th>\n",
              "      <td>Los Guayos</td>\n",
              "      <td>Los Guayos</td>\n",
              "    </tr>\n",
              "    <tr>\n",
              "      <th>7</th>\n",
              "      <td>Miranda</td>\n",
              "      <td>Miranda</td>\n",
              "    </tr>\n",
              "    <tr>\n",
              "      <th>8</th>\n",
              "      <td>Montalbán</td>\n",
              "      <td>Montalbán</td>\n",
              "    </tr>\n",
              "    <tr>\n",
              "      <th>9</th>\n",
              "      <td>Naguanagua</td>\n",
              "      <td>Naguanagua</td>\n",
              "    </tr>\n",
              "    <tr>\n",
              "      <th>10</th>\n",
              "      <td>Puerto Cabello</td>\n",
              "      <td>Bartolomé Salom, Borburata, Democracia, Frate...</td>\n",
              "    </tr>\n",
              "    <tr>\n",
              "      <th>11</th>\n",
              "      <td>San Diego</td>\n",
              "      <td>San Diego</td>\n",
              "    </tr>\n",
              "    <tr>\n",
              "      <th>12</th>\n",
              "      <td>San Joaquín</td>\n",
              "      <td>San Joaquín</td>\n",
              "    </tr>\n",
              "    <tr>\n",
              "      <th>13</th>\n",
              "      <td>Valencia</td>\n",
              "      <td>Candelaria, Catedral, El Socorro, Miguel Peña...</td>\n",
              "    </tr>\n",
              "  </tbody>\n",
              "</table>\n",
              "</div>"
            ],
            "text/plain": [
              "           Borough                                       Neighborhood\n",
              "0           Bejuma                       Bejuma,Canoabo,Simón Bolívar\n",
              "1    Carlos Arvelo                             Belén,Güigüe,Tacarigua\n",
              "2     Diego Ibarra                            Aguas Calientes,Mariara\n",
              "3          Guacara                     Ciudad Alianza, Guacara, Yagua\n",
              "4   Juan José Mora                                       Morón, Urama\n",
              "5       Libertador                            Independencia, Tocuyito\n",
              "6       Los Guayos                                         Los Guayos\n",
              "7          Miranda                                            Miranda\n",
              "8        Montalbán                                          Montalbán\n",
              "9       Naguanagua                                         Naguanagua\n",
              "10  Puerto Cabello   Bartolomé Salom, Borburata, Democracia, Frate...\n",
              "11       San Diego                                          San Diego\n",
              "12     San Joaquín                                        San Joaquín\n",
              "13        Valencia   Candelaria, Catedral, El Socorro, Miguel Peña..."
            ]
          },
          "metadata": {
            "tags": []
          },
          "execution_count": 2
        }
      ]
    },
    {
      "cell_type": "code",
      "metadata": {
        "colab": {
          "base_uri": "https://localhost:8080/"
        },
        "id": "Zrhs0hFsrWIP",
        "outputId": "bb251319-a7af-4b1c-e429-10b45a289370"
      },
      "source": [
        "from google.colab import drive\n",
        "drive.mount('/content/drive')"
      ],
      "execution_count": null,
      "outputs": [
        {
          "output_type": "stream",
          "text": [
            "Drive already mounted at /content/drive; to attempt to forcibly remount, call drive.mount(\"/content/drive\", force_remount=True).\n"
          ],
          "name": "stdout"
        }
      ]
    },
    {
      "cell_type": "code",
      "metadata": {
        "colab": {
          "base_uri": "https://localhost:8080/",
          "height": 462
        },
        "id": "Umh6C1Quv3kY",
        "outputId": "5e56382e-5093-4277-c9d6-1d73009b6cd4"
      },
      "source": [
        "coordinate=pd.read_csv('/content/drive/MyDrive/Coordenadas4.csv')\n",
        "c2=coordinate.drop(['Unnamed: 0'], axis=1)\n",
        "c2"
      ],
      "execution_count": null,
      "outputs": [
        {
          "output_type": "execute_result",
          "data": {
            "text/html": [
              "<div>\n",
              "<style scoped>\n",
              "    .dataframe tbody tr th:only-of-type {\n",
              "        vertical-align: middle;\n",
              "    }\n",
              "\n",
              "    .dataframe tbody tr th {\n",
              "        vertical-align: top;\n",
              "    }\n",
              "\n",
              "    .dataframe thead th {\n",
              "        text-align: right;\n",
              "    }\n",
              "</style>\n",
              "<table border=\"1\" class=\"dataframe\">\n",
              "  <thead>\n",
              "    <tr style=\"text-align: right;\">\n",
              "      <th></th>\n",
              "      <th>Latitude</th>\n",
              "      <th>Longitude</th>\n",
              "    </tr>\n",
              "  </thead>\n",
              "  <tbody>\n",
              "    <tr>\n",
              "      <th>0</th>\n",
              "      <td>10.1740</td>\n",
              "      <td>-68.2590</td>\n",
              "    </tr>\n",
              "    <tr>\n",
              "      <th>1</th>\n",
              "      <td>10.0830</td>\n",
              "      <td>-67.7830</td>\n",
              "    </tr>\n",
              "    <tr>\n",
              "      <th>2</th>\n",
              "      <td>10.2940</td>\n",
              "      <td>-67.7110</td>\n",
              "    </tr>\n",
              "    <tr>\n",
              "      <th>3</th>\n",
              "      <td>10.2260</td>\n",
              "      <td>-67.8770</td>\n",
              "    </tr>\n",
              "    <tr>\n",
              "      <th>4</th>\n",
              "      <td>10.4840</td>\n",
              "      <td>-68.2040</td>\n",
              "    </tr>\n",
              "    <tr>\n",
              "      <th>5</th>\n",
              "      <td>10.1140</td>\n",
              "      <td>-68.0660</td>\n",
              "    </tr>\n",
              "    <tr>\n",
              "      <th>6</th>\n",
              "      <td>10.1830</td>\n",
              "      <td>-67.9330</td>\n",
              "    </tr>\n",
              "    <tr>\n",
              "      <th>7</th>\n",
              "      <td>10.1470</td>\n",
              "      <td>-68.3960</td>\n",
              "    </tr>\n",
              "    <tr>\n",
              "      <th>8</th>\n",
              "      <td>10.2030</td>\n",
              "      <td>-68.3000</td>\n",
              "    </tr>\n",
              "    <tr>\n",
              "      <th>9</th>\n",
              "      <td>10.2540</td>\n",
              "      <td>-68.0100</td>\n",
              "    </tr>\n",
              "    <tr>\n",
              "      <th>10</th>\n",
              "      <td>10.4600</td>\n",
              "      <td>-68.0100</td>\n",
              "    </tr>\n",
              "    <tr>\n",
              "      <th>11</th>\n",
              "      <td>10.2540</td>\n",
              "      <td>-68.0109</td>\n",
              "    </tr>\n",
              "    <tr>\n",
              "      <th>12</th>\n",
              "      <td>10.2611</td>\n",
              "      <td>-67.7928</td>\n",
              "    </tr>\n",
              "    <tr>\n",
              "      <th>13</th>\n",
              "      <td>10.1741</td>\n",
              "      <td>-67.9998</td>\n",
              "    </tr>\n",
              "  </tbody>\n",
              "</table>\n",
              "</div>"
            ],
            "text/plain": [
              "    Latitude  Longitude\n",
              "0    10.1740   -68.2590\n",
              "1    10.0830   -67.7830\n",
              "2    10.2940   -67.7110\n",
              "3    10.2260   -67.8770\n",
              "4    10.4840   -68.2040\n",
              "5    10.1140   -68.0660\n",
              "6    10.1830   -67.9330\n",
              "7    10.1470   -68.3960\n",
              "8    10.2030   -68.3000\n",
              "9    10.2540   -68.0100\n",
              "10   10.4600   -68.0100\n",
              "11   10.2540   -68.0109\n",
              "12   10.2611   -67.7928\n",
              "13   10.1741   -67.9998"
            ]
          },
          "metadata": {
            "tags": []
          },
          "execution_count": 4
        }
      ]
    },
    {
      "cell_type": "code",
      "metadata": {
        "id": "5dIgoajL1Dn_",
        "colab": {
          "base_uri": "https://localhost:8080/",
          "height": 343
        },
        "outputId": "d9550403-7f59-4130-fc41-82fb9ece6a2f"
      },
      "source": [
        "df_final=pd.merge(df2, c2, left_index=True, right_index=True)\n",
        "df_final"
      ],
      "execution_count": null,
      "outputs": [
        {
          "output_type": "execute_result",
          "data": {
            "text/html": [
              "<div>\n",
              "<style scoped>\n",
              "    .dataframe tbody tr th:only-of-type {\n",
              "        vertical-align: middle;\n",
              "    }\n",
              "\n",
              "    .dataframe tbody tr th {\n",
              "        vertical-align: top;\n",
              "    }\n",
              "\n",
              "    .dataframe thead th {\n",
              "        text-align: right;\n",
              "    }\n",
              "</style>\n",
              "<table border=\"1\" class=\"dataframe\">\n",
              "  <thead>\n",
              "    <tr style=\"text-align: right;\">\n",
              "      <th></th>\n",
              "      <th>Borough</th>\n",
              "      <th>Neighborhood</th>\n",
              "      <th>Latitude</th>\n",
              "      <th>Longitude</th>\n",
              "    </tr>\n",
              "  </thead>\n",
              "  <tbody>\n",
              "    <tr>\n",
              "      <th>1</th>\n",
              "      <td>Bejuma</td>\n",
              "      <td>Bejuma</td>\n",
              "      <td>10.0830</td>\n",
              "      <td>-67.7830</td>\n",
              "    </tr>\n",
              "    <tr>\n",
              "      <th>2</th>\n",
              "      <td>Bejuma</td>\n",
              "      <td>Canoabo</td>\n",
              "      <td>10.2940</td>\n",
              "      <td>-67.7110</td>\n",
              "    </tr>\n",
              "    <tr>\n",
              "      <th>3</th>\n",
              "      <td>Bejuma</td>\n",
              "      <td>Simón Bolívar</td>\n",
              "      <td>10.2260</td>\n",
              "      <td>-67.8770</td>\n",
              "    </tr>\n",
              "    <tr>\n",
              "      <th>5</th>\n",
              "      <td>Carlos Arvelo</td>\n",
              "      <td>Belén</td>\n",
              "      <td>10.1140</td>\n",
              "      <td>-68.0660</td>\n",
              "    </tr>\n",
              "    <tr>\n",
              "      <th>6</th>\n",
              "      <td>Carlos Arvelo</td>\n",
              "      <td>Güigüe</td>\n",
              "      <td>10.1830</td>\n",
              "      <td>-67.9330</td>\n",
              "    </tr>\n",
              "    <tr>\n",
              "      <th>7</th>\n",
              "      <td>Carlos Arvelo</td>\n",
              "      <td>Tacarigua</td>\n",
              "      <td>10.1470</td>\n",
              "      <td>-68.3960</td>\n",
              "    </tr>\n",
              "    <tr>\n",
              "      <th>9</th>\n",
              "      <td>Diego Ibarra</td>\n",
              "      <td>Aguas Calientes</td>\n",
              "      <td>10.2540</td>\n",
              "      <td>-68.0100</td>\n",
              "    </tr>\n",
              "    <tr>\n",
              "      <th>10</th>\n",
              "      <td>Diego Ibarra</td>\n",
              "      <td>Mariara</td>\n",
              "      <td>10.4600</td>\n",
              "      <td>-68.0100</td>\n",
              "    </tr>\n",
              "    <tr>\n",
              "      <th>12</th>\n",
              "      <td>Guacara</td>\n",
              "      <td>Ciudad Alianza</td>\n",
              "      <td>10.2611</td>\n",
              "      <td>-67.7928</td>\n",
              "    </tr>\n",
              "    <tr>\n",
              "      <th>13</th>\n",
              "      <td>Guacara</td>\n",
              "      <td>Guacara</td>\n",
              "      <td>10.1741</td>\n",
              "      <td>-67.9998</td>\n",
              "    </tr>\n",
              "  </tbody>\n",
              "</table>\n",
              "</div>"
            ],
            "text/plain": [
              "          Borough     Neighborhood  Latitude  Longitude\n",
              "1          Bejuma           Bejuma   10.0830   -67.7830\n",
              "2          Bejuma          Canoabo   10.2940   -67.7110\n",
              "3          Bejuma    Simón Bolívar   10.2260   -67.8770\n",
              "5   Carlos Arvelo            Belén   10.1140   -68.0660\n",
              "6   Carlos Arvelo           Güigüe   10.1830   -67.9330\n",
              "7   Carlos Arvelo        Tacarigua   10.1470   -68.3960\n",
              "9    Diego Ibarra  Aguas Calientes   10.2540   -68.0100\n",
              "10   Diego Ibarra          Mariara   10.4600   -68.0100\n",
              "12        Guacara   Ciudad Alianza   10.2611   -67.7928\n",
              "13        Guacara          Guacara   10.1741   -67.9998"
            ]
          },
          "metadata": {
            "tags": []
          },
          "execution_count": 5
        }
      ]
    },
    {
      "cell_type": "code",
      "metadata": {
        "id": "yINRfqQv2oBY"
      },
      "source": [
        "CLIENT_ID = 'SCV5LDOEIOWYGXRLVDCVSKY1VOBZ3UJ1H2DUBZCVS2UUUNBA' # your Foursquare ID\n",
        "CLIENT_SECRET = 'NYYWCMTSEZY5MBCVRL4WU0PBUFXJSDOL4SQKLJ2NR5D055PA' # your Foursquare Secret\n",
        "VERSION = '20180605' # Foursquare API version\n",
        "LIMIT = 100 # A default Foursquare API limit value\n",
        "\n",
        "def getNearbyVenues(names, latitudes, longitudes, radius=500):\n",
        "    \n",
        "    venues_list=[]\n",
        "    for name, lat, lng in zip(names, latitudes, longitudes):\n",
        "        # create the API request URL\n",
        "        url = 'https://api.foursquare.com/v2/venues/explore?&client_id={}&client_secret={}&v={}&ll={},{}&radius={}&limit={}'.format(\n",
        "            CLIENT_ID, \n",
        "            CLIENT_SECRET, \n",
        "            VERSION, \n",
        "            lat, \n",
        "            lng, \n",
        "            radius, \n",
        "            LIMIT)\n",
        "            \n",
        "        # make the GET request\n",
        "        results = requests.get(url).json()[\"response\"]['groups'][0]['items']\n",
        "        \n",
        "        # return only relevant information for each nearby venue\n",
        "        venues_list.append([(\n",
        "            name, \n",
        "            lat, \n",
        "            lng, \n",
        "            v['venue']['name'], \n",
        "            v['venue']['location']['lat'], \n",
        "            v['venue']['location']['lng'],  \n",
        "            v['venue']['categories'][0]['name']) for v in results])\n",
        "\n",
        "    nearby_venues = pd.DataFrame([item for venue_list in venues_list for item in venue_list])\n",
        "    nearby_venues.columns = ['Neighborhood', \n",
        "                  'Neighborhood Latitude', \n",
        "                  'Neighborhood Longitude', \n",
        "                  'Venue', \n",
        "                  'Venue Latitude', \n",
        "                  'Venue Longitude', \n",
        "                  'Venue Category']\n",
        "    \n",
        "    return (nearby_venues)"
      ],
      "execution_count": null,
      "outputs": []
    },
    {
      "cell_type": "code",
      "metadata": {
        "colab": {
          "base_uri": "https://localhost:8080/",
          "height": 254
        },
        "id": "VkfIqVdH24wx",
        "outputId": "5571050b-fef4-4339-be47-6036dbb69cf6"
      },
      "source": [
        "carabobo_venues=getNearbyVenues(names=df_final['Neighborhood'], latitudes=df_final['Latitude'],longitudes=df_final['Longitude'])\n",
        "carabobo_venues.groupby('Neighborhood').count()"
      ],
      "execution_count": null,
      "outputs": [
        {
          "output_type": "execute_result",
          "data": {
            "text/html": [
              "<div>\n",
              "<style scoped>\n",
              "    .dataframe tbody tr th:only-of-type {\n",
              "        vertical-align: middle;\n",
              "    }\n",
              "\n",
              "    .dataframe tbody tr th {\n",
              "        vertical-align: top;\n",
              "    }\n",
              "\n",
              "    .dataframe thead th {\n",
              "        text-align: right;\n",
              "    }\n",
              "</style>\n",
              "<table border=\"1\" class=\"dataframe\">\n",
              "  <thead>\n",
              "    <tr style=\"text-align: right;\">\n",
              "      <th></th>\n",
              "      <th>Neighborhood Latitude</th>\n",
              "      <th>Neighborhood Longitude</th>\n",
              "      <th>Venue</th>\n",
              "      <th>Venue Latitude</th>\n",
              "      <th>Venue Longitude</th>\n",
              "      <th>Venue Category</th>\n",
              "    </tr>\n",
              "    <tr>\n",
              "      <th>Neighborhood</th>\n",
              "      <th></th>\n",
              "      <th></th>\n",
              "      <th></th>\n",
              "      <th></th>\n",
              "      <th></th>\n",
              "      <th></th>\n",
              "    </tr>\n",
              "  </thead>\n",
              "  <tbody>\n",
              "    <tr>\n",
              "      <th>Guacara</th>\n",
              "      <td>3</td>\n",
              "      <td>3</td>\n",
              "      <td>3</td>\n",
              "      <td>3</td>\n",
              "      <td>3</td>\n",
              "      <td>3</td>\n",
              "    </tr>\n",
              "    <tr>\n",
              "      <th>Aguas Calientes</th>\n",
              "      <td>7</td>\n",
              "      <td>7</td>\n",
              "      <td>7</td>\n",
              "      <td>7</td>\n",
              "      <td>7</td>\n",
              "      <td>7</td>\n",
              "    </tr>\n",
              "    <tr>\n",
              "      <th>Bejuma</th>\n",
              "      <td>2</td>\n",
              "      <td>2</td>\n",
              "      <td>2</td>\n",
              "      <td>2</td>\n",
              "      <td>2</td>\n",
              "      <td>2</td>\n",
              "    </tr>\n",
              "    <tr>\n",
              "      <th>Ciudad Alianza</th>\n",
              "      <td>2</td>\n",
              "      <td>2</td>\n",
              "      <td>2</td>\n",
              "      <td>2</td>\n",
              "      <td>2</td>\n",
              "      <td>2</td>\n",
              "    </tr>\n",
              "    <tr>\n",
              "      <th>Mariara</th>\n",
              "      <td>4</td>\n",
              "      <td>4</td>\n",
              "      <td>4</td>\n",
              "      <td>4</td>\n",
              "      <td>4</td>\n",
              "      <td>4</td>\n",
              "    </tr>\n",
              "    <tr>\n",
              "      <th>Simón Bolívar</th>\n",
              "      <td>2</td>\n",
              "      <td>2</td>\n",
              "      <td>2</td>\n",
              "      <td>2</td>\n",
              "      <td>2</td>\n",
              "      <td>2</td>\n",
              "    </tr>\n",
              "  </tbody>\n",
              "</table>\n",
              "</div>"
            ],
            "text/plain": [
              "                 Neighborhood Latitude  ...  Venue Category\n",
              "Neighborhood                            ...                \n",
              " Guacara                             3  ...               3\n",
              "Aguas Calientes                      7  ...               7\n",
              "Bejuma                               2  ...               2\n",
              "Ciudad Alianza                       2  ...               2\n",
              "Mariara                              4  ...               4\n",
              "Simón Bolívar                        2  ...               2\n",
              "\n",
              "[6 rows x 6 columns]"
            ]
          },
          "metadata": {
            "tags": []
          },
          "execution_count": 7
        }
      ]
    },
    {
      "cell_type": "code",
      "metadata": {
        "colab": {
          "base_uri": "https://localhost:8080/",
          "height": 312
        },
        "id": "OiZxQx3K3ddW",
        "outputId": "e3026953-2000-44ef-db2a-008a7e86fa83"
      },
      "source": [
        "# one hot encoding\n",
        "carabobo_onehot = pd.get_dummies(carabobo_venues[['Venue Category']], prefix=\"\", prefix_sep=\"\")\n",
        "\n",
        "# add neighborhood column back to dataframe\n",
        "carabobo_onehot['Neighborhood'] = carabobo_venues['Neighborhood'] \n",
        "\n",
        "# move neighborhood column to the first column\n",
        "fixed_columns = [carabobo_onehot.columns[-1]] + list(carabobo_onehot.columns[:-1])\n",
        "carabobo_onehot = carabobo_onehot[fixed_columns]\n",
        "\n",
        "carabobo_grouped = carabobo_onehot.groupby('Neighborhood').mean().reset_index()\n",
        "carabobo_grouped"
      ],
      "execution_count": null,
      "outputs": [
        {
          "output_type": "execute_result",
          "data": {
            "text/html": [
              "<div>\n",
              "<style scoped>\n",
              "    .dataframe tbody tr th:only-of-type {\n",
              "        vertical-align: middle;\n",
              "    }\n",
              "\n",
              "    .dataframe tbody tr th {\n",
              "        vertical-align: top;\n",
              "    }\n",
              "\n",
              "    .dataframe thead th {\n",
              "        text-align: right;\n",
              "    }\n",
              "</style>\n",
              "<table border=\"1\" class=\"dataframe\">\n",
              "  <thead>\n",
              "    <tr style=\"text-align: right;\">\n",
              "      <th></th>\n",
              "      <th>Neighborhood</th>\n",
              "      <th>BBQ Joint</th>\n",
              "      <th>Bakery</th>\n",
              "      <th>Bar</th>\n",
              "      <th>Coffee Shop</th>\n",
              "      <th>Department Store</th>\n",
              "      <th>Fast Food Restaurant</th>\n",
              "      <th>Furniture / Home Store</th>\n",
              "      <th>Government Building</th>\n",
              "      <th>Metro Station</th>\n",
              "      <th>Park</th>\n",
              "      <th>Pharmacy</th>\n",
              "      <th>Pie Shop</th>\n",
              "      <th>Pizza Place</th>\n",
              "      <th>Plaza</th>\n",
              "      <th>Restaurant</th>\n",
              "      <th>Salad Place</th>\n",
              "      <th>Shopping Mall</th>\n",
              "      <th>Soccer Field</th>\n",
              "    </tr>\n",
              "  </thead>\n",
              "  <tbody>\n",
              "    <tr>\n",
              "      <th>0</th>\n",
              "      <td>Guacara</td>\n",
              "      <td>0.000000</td>\n",
              "      <td>0.000000</td>\n",
              "      <td>0.333333</td>\n",
              "      <td>0.000000</td>\n",
              "      <td>0.333333</td>\n",
              "      <td>0.00</td>\n",
              "      <td>0.0</td>\n",
              "      <td>0.0</td>\n",
              "      <td>0.333333</td>\n",
              "      <td>0.000000</td>\n",
              "      <td>0.0</td>\n",
              "      <td>0.00</td>\n",
              "      <td>0.000000</td>\n",
              "      <td>0.000000</td>\n",
              "      <td>0.00</td>\n",
              "      <td>0.00</td>\n",
              "      <td>0.0</td>\n",
              "      <td>0.000000</td>\n",
              "    </tr>\n",
              "    <tr>\n",
              "      <th>1</th>\n",
              "      <td>Aguas Calientes</td>\n",
              "      <td>0.142857</td>\n",
              "      <td>0.142857</td>\n",
              "      <td>0.000000</td>\n",
              "      <td>0.142857</td>\n",
              "      <td>0.000000</td>\n",
              "      <td>0.00</td>\n",
              "      <td>0.0</td>\n",
              "      <td>0.0</td>\n",
              "      <td>0.000000</td>\n",
              "      <td>0.142857</td>\n",
              "      <td>0.0</td>\n",
              "      <td>0.00</td>\n",
              "      <td>0.142857</td>\n",
              "      <td>0.142857</td>\n",
              "      <td>0.00</td>\n",
              "      <td>0.00</td>\n",
              "      <td>0.0</td>\n",
              "      <td>0.142857</td>\n",
              "    </tr>\n",
              "    <tr>\n",
              "      <th>2</th>\n",
              "      <td>Bejuma</td>\n",
              "      <td>0.000000</td>\n",
              "      <td>0.000000</td>\n",
              "      <td>0.000000</td>\n",
              "      <td>0.000000</td>\n",
              "      <td>0.000000</td>\n",
              "      <td>0.00</td>\n",
              "      <td>0.0</td>\n",
              "      <td>0.5</td>\n",
              "      <td>0.000000</td>\n",
              "      <td>0.000000</td>\n",
              "      <td>0.5</td>\n",
              "      <td>0.00</td>\n",
              "      <td>0.000000</td>\n",
              "      <td>0.000000</td>\n",
              "      <td>0.00</td>\n",
              "      <td>0.00</td>\n",
              "      <td>0.0</td>\n",
              "      <td>0.000000</td>\n",
              "    </tr>\n",
              "    <tr>\n",
              "      <th>3</th>\n",
              "      <td>Ciudad Alianza</td>\n",
              "      <td>0.000000</td>\n",
              "      <td>0.500000</td>\n",
              "      <td>0.000000</td>\n",
              "      <td>0.000000</td>\n",
              "      <td>0.000000</td>\n",
              "      <td>0.00</td>\n",
              "      <td>0.0</td>\n",
              "      <td>0.0</td>\n",
              "      <td>0.000000</td>\n",
              "      <td>0.000000</td>\n",
              "      <td>0.0</td>\n",
              "      <td>0.00</td>\n",
              "      <td>0.000000</td>\n",
              "      <td>0.000000</td>\n",
              "      <td>0.00</td>\n",
              "      <td>0.00</td>\n",
              "      <td>0.5</td>\n",
              "      <td>0.000000</td>\n",
              "    </tr>\n",
              "    <tr>\n",
              "      <th>4</th>\n",
              "      <td>Mariara</td>\n",
              "      <td>0.000000</td>\n",
              "      <td>0.000000</td>\n",
              "      <td>0.000000</td>\n",
              "      <td>0.000000</td>\n",
              "      <td>0.000000</td>\n",
              "      <td>0.25</td>\n",
              "      <td>0.0</td>\n",
              "      <td>0.0</td>\n",
              "      <td>0.000000</td>\n",
              "      <td>0.000000</td>\n",
              "      <td>0.0</td>\n",
              "      <td>0.25</td>\n",
              "      <td>0.000000</td>\n",
              "      <td>0.000000</td>\n",
              "      <td>0.25</td>\n",
              "      <td>0.25</td>\n",
              "      <td>0.0</td>\n",
              "      <td>0.000000</td>\n",
              "    </tr>\n",
              "    <tr>\n",
              "      <th>5</th>\n",
              "      <td>Simón Bolívar</td>\n",
              "      <td>0.000000</td>\n",
              "      <td>0.000000</td>\n",
              "      <td>0.000000</td>\n",
              "      <td>0.000000</td>\n",
              "      <td>0.000000</td>\n",
              "      <td>0.00</td>\n",
              "      <td>0.5</td>\n",
              "      <td>0.0</td>\n",
              "      <td>0.000000</td>\n",
              "      <td>0.000000</td>\n",
              "      <td>0.0</td>\n",
              "      <td>0.00</td>\n",
              "      <td>0.000000</td>\n",
              "      <td>0.500000</td>\n",
              "      <td>0.00</td>\n",
              "      <td>0.00</td>\n",
              "      <td>0.0</td>\n",
              "      <td>0.000000</td>\n",
              "    </tr>\n",
              "  </tbody>\n",
              "</table>\n",
              "</div>"
            ],
            "text/plain": [
              "      Neighborhood  BBQ Joint  ...  Shopping Mall  Soccer Field\n",
              "0          Guacara   0.000000  ...            0.0      0.000000\n",
              "1  Aguas Calientes   0.142857  ...            0.0      0.142857\n",
              "2           Bejuma   0.000000  ...            0.0      0.000000\n",
              "3   Ciudad Alianza   0.000000  ...            0.5      0.000000\n",
              "4          Mariara   0.000000  ...            0.0      0.000000\n",
              "5    Simón Bolívar   0.000000  ...            0.0      0.000000\n",
              "\n",
              "[6 rows x 19 columns]"
            ]
          },
          "metadata": {
            "tags": []
          },
          "execution_count": 8
        }
      ]
    },
    {
      "cell_type": "code",
      "metadata": {
        "id": "PWZv0J9W35p-"
      },
      "source": [
        "def return_most_common_venues(row, num_top_venues):\n",
        "    row_categories = row.iloc[1:]\n",
        "    row_categories_sorted = row_categories.sort_values(ascending=False)\n",
        "    \n",
        "    return row_categories_sorted.index.values[0:num_top_venues]"
      ],
      "execution_count": null,
      "outputs": []
    },
    {
      "cell_type": "code",
      "metadata": {
        "colab": {
          "base_uri": "https://localhost:8080/",
          "height": 296
        },
        "id": "-Qd5hfhu37dA",
        "outputId": "9f22e4d2-1e5f-49c8-c8a8-b091f02b7a6e"
      },
      "source": [
        "num_top_venues = 10\n",
        "\n",
        "indicators = ['st', 'nd', 'rd']\n",
        "\n",
        "# create columns according to number of top venues\n",
        "columns = ['Neighborhood']\n",
        "for ind in np.arange(num_top_venues):\n",
        "    try:\n",
        "        columns.append('{}{} Most Common Venue'.format(ind+1, indicators[ind]))\n",
        "    except:\n",
        "        columns.append('{}th Most Common Venue'.format(ind+1))\n",
        "\n",
        "# create a new dataframe\n",
        "neighborhoods_venues_sorted = pd.DataFrame(columns=columns)\n",
        "neighborhoods_venues_sorted['Neighborhood'] = carabobo_grouped['Neighborhood']\n",
        "\n",
        "for ind in np.arange(carabobo_grouped.shape[0]):\n",
        "    neighborhoods_venues_sorted.iloc[ind, 1:] = return_most_common_venues(carabobo_grouped.iloc[ind, :], num_top_venues)\n",
        "\n",
        "neighborhoods_venues_sorted.head()"
      ],
      "execution_count": null,
      "outputs": [
        {
          "output_type": "execute_result",
          "data": {
            "text/html": [
              "<div>\n",
              "<style scoped>\n",
              "    .dataframe tbody tr th:only-of-type {\n",
              "        vertical-align: middle;\n",
              "    }\n",
              "\n",
              "    .dataframe tbody tr th {\n",
              "        vertical-align: top;\n",
              "    }\n",
              "\n",
              "    .dataframe thead th {\n",
              "        text-align: right;\n",
              "    }\n",
              "</style>\n",
              "<table border=\"1\" class=\"dataframe\">\n",
              "  <thead>\n",
              "    <tr style=\"text-align: right;\">\n",
              "      <th></th>\n",
              "      <th>Neighborhood</th>\n",
              "      <th>1st Most Common Venue</th>\n",
              "      <th>2nd Most Common Venue</th>\n",
              "      <th>3rd Most Common Venue</th>\n",
              "      <th>4th Most Common Venue</th>\n",
              "      <th>5th Most Common Venue</th>\n",
              "      <th>6th Most Common Venue</th>\n",
              "      <th>7th Most Common Venue</th>\n",
              "      <th>8th Most Common Venue</th>\n",
              "      <th>9th Most Common Venue</th>\n",
              "      <th>10th Most Common Venue</th>\n",
              "    </tr>\n",
              "  </thead>\n",
              "  <tbody>\n",
              "    <tr>\n",
              "      <th>0</th>\n",
              "      <td>Guacara</td>\n",
              "      <td>Metro Station</td>\n",
              "      <td>Bar</td>\n",
              "      <td>Department Store</td>\n",
              "      <td>Shopping Mall</td>\n",
              "      <td>Bakery</td>\n",
              "      <td>Coffee Shop</td>\n",
              "      <td>Fast Food Restaurant</td>\n",
              "      <td>Furniture / Home Store</td>\n",
              "      <td>Government Building</td>\n",
              "      <td>Soccer Field</td>\n",
              "    </tr>\n",
              "    <tr>\n",
              "      <th>1</th>\n",
              "      <td>Aguas Calientes</td>\n",
              "      <td>Soccer Field</td>\n",
              "      <td>Pizza Place</td>\n",
              "      <td>Bakery</td>\n",
              "      <td>Coffee Shop</td>\n",
              "      <td>Park</td>\n",
              "      <td>BBQ Joint</td>\n",
              "      <td>Plaza</td>\n",
              "      <td>Pie Shop</td>\n",
              "      <td>Pharmacy</td>\n",
              "      <td>Shopping Mall</td>\n",
              "    </tr>\n",
              "    <tr>\n",
              "      <th>2</th>\n",
              "      <td>Bejuma</td>\n",
              "      <td>Government Building</td>\n",
              "      <td>Pharmacy</td>\n",
              "      <td>Soccer Field</td>\n",
              "      <td>Bakery</td>\n",
              "      <td>Bar</td>\n",
              "      <td>Coffee Shop</td>\n",
              "      <td>Department Store</td>\n",
              "      <td>Fast Food Restaurant</td>\n",
              "      <td>Furniture / Home Store</td>\n",
              "      <td>Metro Station</td>\n",
              "    </tr>\n",
              "    <tr>\n",
              "      <th>3</th>\n",
              "      <td>Ciudad Alianza</td>\n",
              "      <td>Shopping Mall</td>\n",
              "      <td>Bakery</td>\n",
              "      <td>Soccer Field</td>\n",
              "      <td>Bar</td>\n",
              "      <td>Coffee Shop</td>\n",
              "      <td>Department Store</td>\n",
              "      <td>Fast Food Restaurant</td>\n",
              "      <td>Furniture / Home Store</td>\n",
              "      <td>Government Building</td>\n",
              "      <td>Metro Station</td>\n",
              "    </tr>\n",
              "    <tr>\n",
              "      <th>4</th>\n",
              "      <td>Mariara</td>\n",
              "      <td>Salad Place</td>\n",
              "      <td>Restaurant</td>\n",
              "      <td>Pie Shop</td>\n",
              "      <td>Fast Food Restaurant</td>\n",
              "      <td>Soccer Field</td>\n",
              "      <td>Furniture / Home Store</td>\n",
              "      <td>Bakery</td>\n",
              "      <td>Bar</td>\n",
              "      <td>Coffee Shop</td>\n",
              "      <td>Department Store</td>\n",
              "    </tr>\n",
              "  </tbody>\n",
              "</table>\n",
              "</div>"
            ],
            "text/plain": [
              "      Neighborhood  ... 10th Most Common Venue\n",
              "0          Guacara  ...           Soccer Field\n",
              "1  Aguas Calientes  ...          Shopping Mall\n",
              "2           Bejuma  ...          Metro Station\n",
              "3   Ciudad Alianza  ...          Metro Station\n",
              "4          Mariara  ...       Department Store\n",
              "\n",
              "[5 rows x 11 columns]"
            ]
          },
          "metadata": {
            "tags": []
          },
          "execution_count": 10
        }
      ]
    },
    {
      "cell_type": "code",
      "metadata": {
        "colab": {
          "base_uri": "https://localhost:8080/"
        },
        "id": "xGcWs7iZ4qqU",
        "outputId": "e60ef9b5-638c-4363-b5d0-64383b4e2a32"
      },
      "source": [
        "# set number of clusters\n",
        "kclusters = 5\n",
        "\n",
        "carabobo_grouped_clustering = carabobo_grouped.drop('Neighborhood', 1)\n",
        "# run k-means clustering\n",
        "kmeans = KMeans(n_clusters=kclusters, random_state=0).fit(carabobo_grouped_clustering)\n",
        "\n",
        "# check cluster labels generated for each row in the dataframe\n",
        "kmeans.labels_[0:10] "
      ],
      "execution_count": null,
      "outputs": [
        {
          "output_type": "execute_result",
          "data": {
            "text/plain": [
              "array([4, 1, 3, 0, 1, 2], dtype=int32)"
            ]
          },
          "metadata": {
            "tags": []
          },
          "execution_count": 11
        }
      ]
    },
    {
      "cell_type": "code",
      "metadata": {
        "colab": {
          "base_uri": "https://localhost:8080/",
          "height": 296
        },
        "id": "TLhokvVo4_TC",
        "outputId": "78d15f14-2d61-427e-a4f0-108a04278d5a"
      },
      "source": [
        "# add clustering labels\n",
        "neighborhoods_venues_sorted.insert(0, 'Cluster Labels', kmeans.labels_)\n",
        "\n",
        "carabobo_merged = df_final\n",
        "\n",
        "# merge toronto_grouped with df_cluster to add latitude/longitude for each neighborhoo\n",
        "carabobo_merged = carabobo_merged.join(neighborhoods_venues_sorted.set_index('Neighborhood'), on='Neighborhood')\n",
        "\n",
        "carabobo_merged.head() "
      ],
      "execution_count": null,
      "outputs": [
        {
          "output_type": "execute_result",
          "data": {
            "text/html": [
              "<div>\n",
              "<style scoped>\n",
              "    .dataframe tbody tr th:only-of-type {\n",
              "        vertical-align: middle;\n",
              "    }\n",
              "\n",
              "    .dataframe tbody tr th {\n",
              "        vertical-align: top;\n",
              "    }\n",
              "\n",
              "    .dataframe thead th {\n",
              "        text-align: right;\n",
              "    }\n",
              "</style>\n",
              "<table border=\"1\" class=\"dataframe\">\n",
              "  <thead>\n",
              "    <tr style=\"text-align: right;\">\n",
              "      <th></th>\n",
              "      <th>Borough</th>\n",
              "      <th>Neighborhood</th>\n",
              "      <th>Latitude</th>\n",
              "      <th>Longitude</th>\n",
              "      <th>Cluster Labels</th>\n",
              "      <th>1st Most Common Venue</th>\n",
              "      <th>2nd Most Common Venue</th>\n",
              "      <th>3rd Most Common Venue</th>\n",
              "      <th>4th Most Common Venue</th>\n",
              "      <th>5th Most Common Venue</th>\n",
              "      <th>6th Most Common Venue</th>\n",
              "      <th>7th Most Common Venue</th>\n",
              "      <th>8th Most Common Venue</th>\n",
              "      <th>9th Most Common Venue</th>\n",
              "      <th>10th Most Common Venue</th>\n",
              "    </tr>\n",
              "  </thead>\n",
              "  <tbody>\n",
              "    <tr>\n",
              "      <th>1</th>\n",
              "      <td>Bejuma</td>\n",
              "      <td>Bejuma</td>\n",
              "      <td>10.083</td>\n",
              "      <td>-67.783</td>\n",
              "      <td>3.0</td>\n",
              "      <td>Government Building</td>\n",
              "      <td>Pharmacy</td>\n",
              "      <td>Soccer Field</td>\n",
              "      <td>Bakery</td>\n",
              "      <td>Bar</td>\n",
              "      <td>Coffee Shop</td>\n",
              "      <td>Department Store</td>\n",
              "      <td>Fast Food Restaurant</td>\n",
              "      <td>Furniture / Home Store</td>\n",
              "      <td>Metro Station</td>\n",
              "    </tr>\n",
              "    <tr>\n",
              "      <th>2</th>\n",
              "      <td>Bejuma</td>\n",
              "      <td>Canoabo</td>\n",
              "      <td>10.294</td>\n",
              "      <td>-67.711</td>\n",
              "      <td>NaN</td>\n",
              "      <td>NaN</td>\n",
              "      <td>NaN</td>\n",
              "      <td>NaN</td>\n",
              "      <td>NaN</td>\n",
              "      <td>NaN</td>\n",
              "      <td>NaN</td>\n",
              "      <td>NaN</td>\n",
              "      <td>NaN</td>\n",
              "      <td>NaN</td>\n",
              "      <td>NaN</td>\n",
              "    </tr>\n",
              "    <tr>\n",
              "      <th>3</th>\n",
              "      <td>Bejuma</td>\n",
              "      <td>Simón Bolívar</td>\n",
              "      <td>10.226</td>\n",
              "      <td>-67.877</td>\n",
              "      <td>2.0</td>\n",
              "      <td>Plaza</td>\n",
              "      <td>Furniture / Home Store</td>\n",
              "      <td>Soccer Field</td>\n",
              "      <td>Government Building</td>\n",
              "      <td>Bakery</td>\n",
              "      <td>Bar</td>\n",
              "      <td>Coffee Shop</td>\n",
              "      <td>Department Store</td>\n",
              "      <td>Fast Food Restaurant</td>\n",
              "      <td>Metro Station</td>\n",
              "    </tr>\n",
              "    <tr>\n",
              "      <th>5</th>\n",
              "      <td>Carlos Arvelo</td>\n",
              "      <td>Belén</td>\n",
              "      <td>10.114</td>\n",
              "      <td>-68.066</td>\n",
              "      <td>NaN</td>\n",
              "      <td>NaN</td>\n",
              "      <td>NaN</td>\n",
              "      <td>NaN</td>\n",
              "      <td>NaN</td>\n",
              "      <td>NaN</td>\n",
              "      <td>NaN</td>\n",
              "      <td>NaN</td>\n",
              "      <td>NaN</td>\n",
              "      <td>NaN</td>\n",
              "      <td>NaN</td>\n",
              "    </tr>\n",
              "    <tr>\n",
              "      <th>6</th>\n",
              "      <td>Carlos Arvelo</td>\n",
              "      <td>Güigüe</td>\n",
              "      <td>10.183</td>\n",
              "      <td>-67.933</td>\n",
              "      <td>NaN</td>\n",
              "      <td>NaN</td>\n",
              "      <td>NaN</td>\n",
              "      <td>NaN</td>\n",
              "      <td>NaN</td>\n",
              "      <td>NaN</td>\n",
              "      <td>NaN</td>\n",
              "      <td>NaN</td>\n",
              "      <td>NaN</td>\n",
              "      <td>NaN</td>\n",
              "      <td>NaN</td>\n",
              "    </tr>\n",
              "  </tbody>\n",
              "</table>\n",
              "</div>"
            ],
            "text/plain": [
              "         Borough   Neighborhood  ...   9th Most Common Venue  10th Most Common Venue\n",
              "1         Bejuma         Bejuma  ...  Furniture / Home Store           Metro Station\n",
              "2         Bejuma        Canoabo  ...                     NaN                     NaN\n",
              "3         Bejuma  Simón Bolívar  ...    Fast Food Restaurant           Metro Station\n",
              "5  Carlos Arvelo          Belén  ...                     NaN                     NaN\n",
              "6  Carlos Arvelo         Güigüe  ...                     NaN                     NaN\n",
              "\n",
              "[5 rows x 15 columns]"
            ]
          },
          "metadata": {
            "tags": []
          },
          "execution_count": 12
        }
      ]
    },
    {
      "cell_type": "code",
      "metadata": {
        "colab": {
          "base_uri": "https://localhost:8080/",
          "height": 866
        },
        "id": "iZf3A1GJ4Muo",
        "outputId": "84599294-5e0d-4382-9683-b8c4be9fd60d"
      },
      "source": [
        "address = 'Carabobo, VE'\n",
        "\n",
        "geolocator = Nominatim(user_agent=\"ny_explorer\")\n",
        "location = geolocator.geocode(address)\n",
        "latitude = location.latitude\n",
        "longitude = location.longitude\n",
        "\n",
        "# create map\n",
        "map_clusters = folium.Map(location=[latitude, longitude], zoom_start=11)\n",
        "\n",
        "# set color scheme for the clusters\n",
        "x = np.arange(kclusters)\n",
        "ys = [i + x + (i*x)**2 for i in range(kclusters)]\n",
        "colors_array = cm.rainbow(np.linspace(0, 1, len(ys)))\n",
        "rainbow = [colors.rgb2hex(i) for i in colors_array]\n",
        "\n",
        "# add markers to the map\n",
        "markers_colors = []\n",
        "for lat, lon, poi, cluster in zip(carabobo_merged['Latitude'], carabobo_merged['Longitude'], carabobo_merged['Neighborhood'], carabobo_merged['Cluster Labels']):\n",
        "    label = folium.Popup(str(poi) + ' Cluster ' + str(cluster), parse_html=True)\n",
        "    folium.CircleMarker(\n",
        "        [lat, lon],\n",
        "        radius=5,\n",
        "        popup=label,\n",
        "        fill=True,\n",
        "        fill_opacity=0.7).add_to(map_clusters)\n",
        "       \n",
        "map_clusters"
      ],
      "execution_count": null,
      "outputs": [
        {
          "output_type": "execute_result",
          "data": {
            "text/html": [
              "<div style=\"width:100%;\"><div style=\"position:relative;width:100%;height:0;padding-bottom:60%;\"><span style=\"color:#565656\">Make this Notebook Trusted to load map: File -> Trust Notebook</span><iframe src=\"about:blank\" style=\"position:absolute;width:100%;height:100%;left:0;top:0;border:none !important;\" data-html=%3C%21DOCTYPE%20html%3E%0A%3Chead%3E%20%20%20%20%0A%20%20%20%20%3Cmeta%20http-equiv%3D%22content-type%22%20content%3D%22text/html%3B%20charset%3DUTF-8%22%20/%3E%0A%20%20%20%20%3Cscript%3EL_PREFER_CANVAS%3Dfalse%3B%20L_NO_TOUCH%3Dfalse%3B%20L_DISABLE_3D%3Dfalse%3B%3C/script%3E%0A%20%20%20%20%3Cscript%20src%3D%22https%3A//cdn.jsdelivr.net/npm/leaflet%401.4.0/dist/leaflet.js%22%3E%3C/script%3E%0A%20%20%20%20%3Cscript%20src%3D%22https%3A//code.jquery.com/jquery-1.12.4.min.js%22%3E%3C/script%3E%0A%20%20%20%20%3Cscript%20src%3D%22https%3A//maxcdn.bootstrapcdn.com/bootstrap/3.2.0/js/bootstrap.min.js%22%3E%3C/script%3E%0A%20%20%20%20%3Cscript%20src%3D%22https%3A//cdnjs.cloudflare.com/ajax/libs/Leaflet.awesome-markers/2.0.2/leaflet.awesome-markers.js%22%3E%3C/script%3E%0A%20%20%20%20%3Clink%20rel%3D%22stylesheet%22%20href%3D%22https%3A//cdn.jsdelivr.net/npm/leaflet%401.4.0/dist/leaflet.css%22/%3E%0A%20%20%20%20%3Clink%20rel%3D%22stylesheet%22%20href%3D%22https%3A//maxcdn.bootstrapcdn.com/bootstrap/3.2.0/css/bootstrap.min.css%22/%3E%0A%20%20%20%20%3Clink%20rel%3D%22stylesheet%22%20href%3D%22https%3A//maxcdn.bootstrapcdn.com/bootstrap/3.2.0/css/bootstrap-theme.min.css%22/%3E%0A%20%20%20%20%3Clink%20rel%3D%22stylesheet%22%20href%3D%22https%3A//maxcdn.bootstrapcdn.com/font-awesome/4.6.3/css/font-awesome.min.css%22/%3E%0A%20%20%20%20%3Clink%20rel%3D%22stylesheet%22%20href%3D%22https%3A//cdnjs.cloudflare.com/ajax/libs/Leaflet.awesome-markers/2.0.2/leaflet.awesome-markers.css%22/%3E%0A%20%20%20%20%3Clink%20rel%3D%22stylesheet%22%20href%3D%22https%3A//rawcdn.githack.com/python-visualization/folium/master/folium/templates/leaflet.awesome.rotate.css%22/%3E%0A%20%20%20%20%3Cstyle%3Ehtml%2C%20body%20%7Bwidth%3A%20100%25%3Bheight%3A%20100%25%3Bmargin%3A%200%3Bpadding%3A%200%3B%7D%3C/style%3E%0A%20%20%20%20%3Cstyle%3E%23map%20%7Bposition%3Aabsolute%3Btop%3A0%3Bbottom%3A0%3Bright%3A0%3Bleft%3A0%3B%7D%3C/style%3E%0A%20%20%20%20%0A%20%20%20%20%3Cmeta%20name%3D%22viewport%22%20content%3D%22width%3Ddevice-width%2C%0A%20%20%20%20%20%20%20%20initial-scale%3D1.0%2C%20maximum-scale%3D1.0%2C%20user-scalable%3Dno%22%20/%3E%0A%20%20%20%20%3Cstyle%3E%23map_72fcdd84252a441e930302e6331b803d%20%7B%0A%20%20%20%20%20%20%20%20position%3A%20relative%3B%0A%20%20%20%20%20%20%20%20width%3A%20100.0%25%3B%0A%20%20%20%20%20%20%20%20height%3A%20100.0%25%3B%0A%20%20%20%20%20%20%20%20left%3A%200.0%25%3B%0A%20%20%20%20%20%20%20%20top%3A%200.0%25%3B%0A%20%20%20%20%20%20%20%20%7D%0A%20%20%20%20%3C/style%3E%0A%3C/head%3E%0A%3Cbody%3E%20%20%20%20%0A%20%20%20%20%0A%20%20%20%20%3Cdiv%20class%3D%22folium-map%22%20id%3D%22map_72fcdd84252a441e930302e6331b803d%22%20%3E%3C/div%3E%0A%3C/body%3E%0A%3Cscript%3E%20%20%20%20%0A%20%20%20%20%0A%20%20%20%20%0A%20%20%20%20%20%20%20%20var%20bounds%20%3D%20null%3B%0A%20%20%20%20%0A%0A%20%20%20%20var%20map_72fcdd84252a441e930302e6331b803d%20%3D%20L.map%28%0A%20%20%20%20%20%20%20%20%27map_72fcdd84252a441e930302e6331b803d%27%2C%20%7B%0A%20%20%20%20%20%20%20%20center%3A%20%5B10.166667%2C%20-68.083333%5D%2C%0A%20%20%20%20%20%20%20%20zoom%3A%2011%2C%0A%20%20%20%20%20%20%20%20maxBounds%3A%20bounds%2C%0A%20%20%20%20%20%20%20%20layers%3A%20%5B%5D%2C%0A%20%20%20%20%20%20%20%20worldCopyJump%3A%20false%2C%0A%20%20%20%20%20%20%20%20crs%3A%20L.CRS.EPSG3857%2C%0A%20%20%20%20%20%20%20%20zoomControl%3A%20true%2C%0A%20%20%20%20%20%20%20%20%7D%29%3B%0A%0A%0A%20%20%20%20%0A%20%20%20%20var%20tile_layer_9afa764585cc417396edebf57bc14f34%20%3D%20L.tileLayer%28%0A%20%20%20%20%20%20%20%20%27https%3A//%7Bs%7D.tile.openstreetmap.org/%7Bz%7D/%7Bx%7D/%7By%7D.png%27%2C%0A%20%20%20%20%20%20%20%20%7B%0A%20%20%20%20%20%20%20%20%22attribution%22%3A%20null%2C%0A%20%20%20%20%20%20%20%20%22detectRetina%22%3A%20false%2C%0A%20%20%20%20%20%20%20%20%22maxNativeZoom%22%3A%2018%2C%0A%20%20%20%20%20%20%20%20%22maxZoom%22%3A%2018%2C%0A%20%20%20%20%20%20%20%20%22minZoom%22%3A%200%2C%0A%20%20%20%20%20%20%20%20%22noWrap%22%3A%20false%2C%0A%20%20%20%20%20%20%20%20%22opacity%22%3A%201%2C%0A%20%20%20%20%20%20%20%20%22subdomains%22%3A%20%22abc%22%2C%0A%20%20%20%20%20%20%20%20%22tms%22%3A%20false%0A%7D%29.addTo%28map_72fcdd84252a441e930302e6331b803d%29%3B%0A%20%20%20%20%0A%20%20%20%20%20%20%20%20%20%20%20%20var%20circle_marker_19bff83758394c21b4e9432ec07ec61b%20%3D%20L.circleMarker%28%0A%20%20%20%20%20%20%20%20%20%20%20%20%20%20%20%20%5B10.083%2C%20-67.783%5D%2C%0A%20%20%20%20%20%20%20%20%20%20%20%20%20%20%20%20%7B%0A%20%20%22bubblingMouseEvents%22%3A%20true%2C%0A%20%20%22color%22%3A%20%22%233388ff%22%2C%0A%20%20%22dashArray%22%3A%20null%2C%0A%20%20%22dashOffset%22%3A%20null%2C%0A%20%20%22fill%22%3A%20true%2C%0A%20%20%22fillColor%22%3A%20%22%233388ff%22%2C%0A%20%20%22fillOpacity%22%3A%200.7%2C%0A%20%20%22fillRule%22%3A%20%22evenodd%22%2C%0A%20%20%22lineCap%22%3A%20%22round%22%2C%0A%20%20%22lineJoin%22%3A%20%22round%22%2C%0A%20%20%22opacity%22%3A%201.0%2C%0A%20%20%22radius%22%3A%205%2C%0A%20%20%22stroke%22%3A%20true%2C%0A%20%20%22weight%22%3A%203%0A%7D%0A%20%20%20%20%20%20%20%20%20%20%20%20%20%20%20%20%29%0A%20%20%20%20%20%20%20%20%20%20%20%20%20%20%20%20.addTo%28map_72fcdd84252a441e930302e6331b803d%29%3B%0A%20%20%20%20%20%20%20%20%20%20%20%20%0A%20%20%20%20%0A%20%20%20%20%20%20%20%20%20%20%20%20var%20popup_586417cbc88c45adb3de4cbdbf070e12%20%3D%20L.popup%28%7BmaxWidth%3A%20%27100%25%27%0A%20%20%20%20%20%20%20%20%20%20%20%20%0A%20%20%20%20%20%20%20%20%20%20%20%20%7D%29%3B%0A%0A%20%20%20%20%20%20%20%20%20%20%20%20%0A%20%20%20%20%20%20%20%20%20%20%20%20%20%20%20%20var%20html_d3cb45e41382489cb415edf21d18a884%20%3D%20%24%28%60%3Cdiv%20id%3D%22html_d3cb45e41382489cb415edf21d18a884%22%20style%3D%22width%3A%20100.0%25%3B%20height%3A%20100.0%25%3B%22%3EBejuma%20Cluster%203.0%3C/div%3E%60%29%5B0%5D%3B%0A%20%20%20%20%20%20%20%20%20%20%20%20%20%20%20%20popup_586417cbc88c45adb3de4cbdbf070e12.setContent%28html_d3cb45e41382489cb415edf21d18a884%29%3B%0A%20%20%20%20%20%20%20%20%20%20%20%20%0A%0A%20%20%20%20%20%20%20%20%20%20%20%20circle_marker_19bff83758394c21b4e9432ec07ec61b.bindPopup%28popup_586417cbc88c45adb3de4cbdbf070e12%29%0A%20%20%20%20%20%20%20%20%20%20%20%20%3B%0A%0A%20%20%20%20%20%20%20%20%20%20%20%20%0A%20%20%20%20%20%20%20%20%0A%20%20%20%20%0A%20%20%20%20%20%20%20%20%20%20%20%20var%20circle_marker_49b245f51b0b4f319a4f8eba01ecb7c9%20%3D%20L.circleMarker%28%0A%20%20%20%20%20%20%20%20%20%20%20%20%20%20%20%20%5B10.294%2C%20-67.711%5D%2C%0A%20%20%20%20%20%20%20%20%20%20%20%20%20%20%20%20%7B%0A%20%20%22bubblingMouseEvents%22%3A%20true%2C%0A%20%20%22color%22%3A%20%22%233388ff%22%2C%0A%20%20%22dashArray%22%3A%20null%2C%0A%20%20%22dashOffset%22%3A%20null%2C%0A%20%20%22fill%22%3A%20true%2C%0A%20%20%22fillColor%22%3A%20%22%233388ff%22%2C%0A%20%20%22fillOpacity%22%3A%200.7%2C%0A%20%20%22fillRule%22%3A%20%22evenodd%22%2C%0A%20%20%22lineCap%22%3A%20%22round%22%2C%0A%20%20%22lineJoin%22%3A%20%22round%22%2C%0A%20%20%22opacity%22%3A%201.0%2C%0A%20%20%22radius%22%3A%205%2C%0A%20%20%22stroke%22%3A%20true%2C%0A%20%20%22weight%22%3A%203%0A%7D%0A%20%20%20%20%20%20%20%20%20%20%20%20%20%20%20%20%29%0A%20%20%20%20%20%20%20%20%20%20%20%20%20%20%20%20.addTo%28map_72fcdd84252a441e930302e6331b803d%29%3B%0A%20%20%20%20%20%20%20%20%20%20%20%20%0A%20%20%20%20%0A%20%20%20%20%20%20%20%20%20%20%20%20var%20popup_30a7e48da76a4e379b2a0173751e8895%20%3D%20L.popup%28%7BmaxWidth%3A%20%27100%25%27%0A%20%20%20%20%20%20%20%20%20%20%20%20%0A%20%20%20%20%20%20%20%20%20%20%20%20%7D%29%3B%0A%0A%20%20%20%20%20%20%20%20%20%20%20%20%0A%20%20%20%20%20%20%20%20%20%20%20%20%20%20%20%20var%20html_7e6376b84a3940059787766e87830f12%20%3D%20%24%28%60%3Cdiv%20id%3D%22html_7e6376b84a3940059787766e87830f12%22%20style%3D%22width%3A%20100.0%25%3B%20height%3A%20100.0%25%3B%22%3ECanoabo%20Cluster%20nan%3C/div%3E%60%29%5B0%5D%3B%0A%20%20%20%20%20%20%20%20%20%20%20%20%20%20%20%20popup_30a7e48da76a4e379b2a0173751e8895.setContent%28html_7e6376b84a3940059787766e87830f12%29%3B%0A%20%20%20%20%20%20%20%20%20%20%20%20%0A%0A%20%20%20%20%20%20%20%20%20%20%20%20circle_marker_49b245f51b0b4f319a4f8eba01ecb7c9.bindPopup%28popup_30a7e48da76a4e379b2a0173751e8895%29%0A%20%20%20%20%20%20%20%20%20%20%20%20%3B%0A%0A%20%20%20%20%20%20%20%20%20%20%20%20%0A%20%20%20%20%20%20%20%20%0A%20%20%20%20%0A%20%20%20%20%20%20%20%20%20%20%20%20var%20circle_marker_7e2f29c27e5c42ed9d020e59e60e10c5%20%3D%20L.circleMarker%28%0A%20%20%20%20%20%20%20%20%20%20%20%20%20%20%20%20%5B10.226%2C%20-67.877%5D%2C%0A%20%20%20%20%20%20%20%20%20%20%20%20%20%20%20%20%7B%0A%20%20%22bubblingMouseEvents%22%3A%20true%2C%0A%20%20%22color%22%3A%20%22%233388ff%22%2C%0A%20%20%22dashArray%22%3A%20null%2C%0A%20%20%22dashOffset%22%3A%20null%2C%0A%20%20%22fill%22%3A%20true%2C%0A%20%20%22fillColor%22%3A%20%22%233388ff%22%2C%0A%20%20%22fillOpacity%22%3A%200.7%2C%0A%20%20%22fillRule%22%3A%20%22evenodd%22%2C%0A%20%20%22lineCap%22%3A%20%22round%22%2C%0A%20%20%22lineJoin%22%3A%20%22round%22%2C%0A%20%20%22opacity%22%3A%201.0%2C%0A%20%20%22radius%22%3A%205%2C%0A%20%20%22stroke%22%3A%20true%2C%0A%20%20%22weight%22%3A%203%0A%7D%0A%20%20%20%20%20%20%20%20%20%20%20%20%20%20%20%20%29%0A%20%20%20%20%20%20%20%20%20%20%20%20%20%20%20%20.addTo%28map_72fcdd84252a441e930302e6331b803d%29%3B%0A%20%20%20%20%20%20%20%20%20%20%20%20%0A%20%20%20%20%0A%20%20%20%20%20%20%20%20%20%20%20%20var%20popup_d43228b258ff41228d348cdc54cb2d2a%20%3D%20L.popup%28%7BmaxWidth%3A%20%27100%25%27%0A%20%20%20%20%20%20%20%20%20%20%20%20%0A%20%20%20%20%20%20%20%20%20%20%20%20%7D%29%3B%0A%0A%20%20%20%20%20%20%20%20%20%20%20%20%0A%20%20%20%20%20%20%20%20%20%20%20%20%20%20%20%20var%20html_e8c48da5d73d4b1abd9129761729c320%20%3D%20%24%28%60%3Cdiv%20id%3D%22html_e8c48da5d73d4b1abd9129761729c320%22%20style%3D%22width%3A%20100.0%25%3B%20height%3A%20100.0%25%3B%22%3ESim%C3%B3n%20Bol%C3%ADvar%20Cluster%202.0%3C/div%3E%60%29%5B0%5D%3B%0A%20%20%20%20%20%20%20%20%20%20%20%20%20%20%20%20popup_d43228b258ff41228d348cdc54cb2d2a.setContent%28html_e8c48da5d73d4b1abd9129761729c320%29%3B%0A%20%20%20%20%20%20%20%20%20%20%20%20%0A%0A%20%20%20%20%20%20%20%20%20%20%20%20circle_marker_7e2f29c27e5c42ed9d020e59e60e10c5.bindPopup%28popup_d43228b258ff41228d348cdc54cb2d2a%29%0A%20%20%20%20%20%20%20%20%20%20%20%20%3B%0A%0A%20%20%20%20%20%20%20%20%20%20%20%20%0A%20%20%20%20%20%20%20%20%0A%20%20%20%20%0A%20%20%20%20%20%20%20%20%20%20%20%20var%20circle_marker_e855bc79b9674979b65f364ae5d7383e%20%3D%20L.circleMarker%28%0A%20%20%20%20%20%20%20%20%20%20%20%20%20%20%20%20%5B10.113999999999999%2C%20-68.066%5D%2C%0A%20%20%20%20%20%20%20%20%20%20%20%20%20%20%20%20%7B%0A%20%20%22bubblingMouseEvents%22%3A%20true%2C%0A%20%20%22color%22%3A%20%22%233388ff%22%2C%0A%20%20%22dashArray%22%3A%20null%2C%0A%20%20%22dashOffset%22%3A%20null%2C%0A%20%20%22fill%22%3A%20true%2C%0A%20%20%22fillColor%22%3A%20%22%233388ff%22%2C%0A%20%20%22fillOpacity%22%3A%200.7%2C%0A%20%20%22fillRule%22%3A%20%22evenodd%22%2C%0A%20%20%22lineCap%22%3A%20%22round%22%2C%0A%20%20%22lineJoin%22%3A%20%22round%22%2C%0A%20%20%22opacity%22%3A%201.0%2C%0A%20%20%22radius%22%3A%205%2C%0A%20%20%22stroke%22%3A%20true%2C%0A%20%20%22weight%22%3A%203%0A%7D%0A%20%20%20%20%20%20%20%20%20%20%20%20%20%20%20%20%29%0A%20%20%20%20%20%20%20%20%20%20%20%20%20%20%20%20.addTo%28map_72fcdd84252a441e930302e6331b803d%29%3B%0A%20%20%20%20%20%20%20%20%20%20%20%20%0A%20%20%20%20%0A%20%20%20%20%20%20%20%20%20%20%20%20var%20popup_c4acca6540be47f58c3722d4279dd3c4%20%3D%20L.popup%28%7BmaxWidth%3A%20%27100%25%27%0A%20%20%20%20%20%20%20%20%20%20%20%20%0A%20%20%20%20%20%20%20%20%20%20%20%20%7D%29%3B%0A%0A%20%20%20%20%20%20%20%20%20%20%20%20%0A%20%20%20%20%20%20%20%20%20%20%20%20%20%20%20%20var%20html_5dfe3fee5e90432bb5c4ca7a7aea2f3c%20%3D%20%24%28%60%3Cdiv%20id%3D%22html_5dfe3fee5e90432bb5c4ca7a7aea2f3c%22%20style%3D%22width%3A%20100.0%25%3B%20height%3A%20100.0%25%3B%22%3EBel%C3%A9n%20Cluster%20nan%3C/div%3E%60%29%5B0%5D%3B%0A%20%20%20%20%20%20%20%20%20%20%20%20%20%20%20%20popup_c4acca6540be47f58c3722d4279dd3c4.setContent%28html_5dfe3fee5e90432bb5c4ca7a7aea2f3c%29%3B%0A%20%20%20%20%20%20%20%20%20%20%20%20%0A%0A%20%20%20%20%20%20%20%20%20%20%20%20circle_marker_e855bc79b9674979b65f364ae5d7383e.bindPopup%28popup_c4acca6540be47f58c3722d4279dd3c4%29%0A%20%20%20%20%20%20%20%20%20%20%20%20%3B%0A%0A%20%20%20%20%20%20%20%20%20%20%20%20%0A%20%20%20%20%20%20%20%20%0A%20%20%20%20%0A%20%20%20%20%20%20%20%20%20%20%20%20var%20circle_marker_769118a64dd046af8507f9ef4043f962%20%3D%20L.circleMarker%28%0A%20%20%20%20%20%20%20%20%20%20%20%20%20%20%20%20%5B10.183%2C%20-67.933%5D%2C%0A%20%20%20%20%20%20%20%20%20%20%20%20%20%20%20%20%7B%0A%20%20%22bubblingMouseEvents%22%3A%20true%2C%0A%20%20%22color%22%3A%20%22%233388ff%22%2C%0A%20%20%22dashArray%22%3A%20null%2C%0A%20%20%22dashOffset%22%3A%20null%2C%0A%20%20%22fill%22%3A%20true%2C%0A%20%20%22fillColor%22%3A%20%22%233388ff%22%2C%0A%20%20%22fillOpacity%22%3A%200.7%2C%0A%20%20%22fillRule%22%3A%20%22evenodd%22%2C%0A%20%20%22lineCap%22%3A%20%22round%22%2C%0A%20%20%22lineJoin%22%3A%20%22round%22%2C%0A%20%20%22opacity%22%3A%201.0%2C%0A%20%20%22radius%22%3A%205%2C%0A%20%20%22stroke%22%3A%20true%2C%0A%20%20%22weight%22%3A%203%0A%7D%0A%20%20%20%20%20%20%20%20%20%20%20%20%20%20%20%20%29%0A%20%20%20%20%20%20%20%20%20%20%20%20%20%20%20%20.addTo%28map_72fcdd84252a441e930302e6331b803d%29%3B%0A%20%20%20%20%20%20%20%20%20%20%20%20%0A%20%20%20%20%0A%20%20%20%20%20%20%20%20%20%20%20%20var%20popup_f7461457a97f4a538c3ab15afa02083f%20%3D%20L.popup%28%7BmaxWidth%3A%20%27100%25%27%0A%20%20%20%20%20%20%20%20%20%20%20%20%0A%20%20%20%20%20%20%20%20%20%20%20%20%7D%29%3B%0A%0A%20%20%20%20%20%20%20%20%20%20%20%20%0A%20%20%20%20%20%20%20%20%20%20%20%20%20%20%20%20var%20html_978ecfba77f244ee94743968bf610d5b%20%3D%20%24%28%60%3Cdiv%20id%3D%22html_978ecfba77f244ee94743968bf610d5b%22%20style%3D%22width%3A%20100.0%25%3B%20height%3A%20100.0%25%3B%22%3EG%C3%BCig%C3%BCe%20Cluster%20nan%3C/div%3E%60%29%5B0%5D%3B%0A%20%20%20%20%20%20%20%20%20%20%20%20%20%20%20%20popup_f7461457a97f4a538c3ab15afa02083f.setContent%28html_978ecfba77f244ee94743968bf610d5b%29%3B%0A%20%20%20%20%20%20%20%20%20%20%20%20%0A%0A%20%20%20%20%20%20%20%20%20%20%20%20circle_marker_769118a64dd046af8507f9ef4043f962.bindPopup%28popup_f7461457a97f4a538c3ab15afa02083f%29%0A%20%20%20%20%20%20%20%20%20%20%20%20%3B%0A%0A%20%20%20%20%20%20%20%20%20%20%20%20%0A%20%20%20%20%20%20%20%20%0A%20%20%20%20%0A%20%20%20%20%20%20%20%20%20%20%20%20var%20circle_marker_ae43f7092f57457a95a59f9d7d49347d%20%3D%20L.circleMarker%28%0A%20%20%20%20%20%20%20%20%20%20%20%20%20%20%20%20%5B10.147%2C%20-68.396%5D%2C%0A%20%20%20%20%20%20%20%20%20%20%20%20%20%20%20%20%7B%0A%20%20%22bubblingMouseEvents%22%3A%20true%2C%0A%20%20%22color%22%3A%20%22%233388ff%22%2C%0A%20%20%22dashArray%22%3A%20null%2C%0A%20%20%22dashOffset%22%3A%20null%2C%0A%20%20%22fill%22%3A%20true%2C%0A%20%20%22fillColor%22%3A%20%22%233388ff%22%2C%0A%20%20%22fillOpacity%22%3A%200.7%2C%0A%20%20%22fillRule%22%3A%20%22evenodd%22%2C%0A%20%20%22lineCap%22%3A%20%22round%22%2C%0A%20%20%22lineJoin%22%3A%20%22round%22%2C%0A%20%20%22opacity%22%3A%201.0%2C%0A%20%20%22radius%22%3A%205%2C%0A%20%20%22stroke%22%3A%20true%2C%0A%20%20%22weight%22%3A%203%0A%7D%0A%20%20%20%20%20%20%20%20%20%20%20%20%20%20%20%20%29%0A%20%20%20%20%20%20%20%20%20%20%20%20%20%20%20%20.addTo%28map_72fcdd84252a441e930302e6331b803d%29%3B%0A%20%20%20%20%20%20%20%20%20%20%20%20%0A%20%20%20%20%0A%20%20%20%20%20%20%20%20%20%20%20%20var%20popup_765d606e94974e2abcd8037e5d8bd560%20%3D%20L.popup%28%7BmaxWidth%3A%20%27100%25%27%0A%20%20%20%20%20%20%20%20%20%20%20%20%0A%20%20%20%20%20%20%20%20%20%20%20%20%7D%29%3B%0A%0A%20%20%20%20%20%20%20%20%20%20%20%20%0A%20%20%20%20%20%20%20%20%20%20%20%20%20%20%20%20var%20html_f3fb9773e074422c9a69fa4025aaa319%20%3D%20%24%28%60%3Cdiv%20id%3D%22html_f3fb9773e074422c9a69fa4025aaa319%22%20style%3D%22width%3A%20100.0%25%3B%20height%3A%20100.0%25%3B%22%3ETacarigua%20Cluster%20nan%3C/div%3E%60%29%5B0%5D%3B%0A%20%20%20%20%20%20%20%20%20%20%20%20%20%20%20%20popup_765d606e94974e2abcd8037e5d8bd560.setContent%28html_f3fb9773e074422c9a69fa4025aaa319%29%3B%0A%20%20%20%20%20%20%20%20%20%20%20%20%0A%0A%20%20%20%20%20%20%20%20%20%20%20%20circle_marker_ae43f7092f57457a95a59f9d7d49347d.bindPopup%28popup_765d606e94974e2abcd8037e5d8bd560%29%0A%20%20%20%20%20%20%20%20%20%20%20%20%3B%0A%0A%20%20%20%20%20%20%20%20%20%20%20%20%0A%20%20%20%20%20%20%20%20%0A%20%20%20%20%0A%20%20%20%20%20%20%20%20%20%20%20%20var%20circle_marker_31c5fd416e224a98afc781ca56c550a1%20%3D%20L.circleMarker%28%0A%20%20%20%20%20%20%20%20%20%20%20%20%20%20%20%20%5B10.254000000000001%2C%20-68.01%5D%2C%0A%20%20%20%20%20%20%20%20%20%20%20%20%20%20%20%20%7B%0A%20%20%22bubblingMouseEvents%22%3A%20true%2C%0A%20%20%22color%22%3A%20%22%233388ff%22%2C%0A%20%20%22dashArray%22%3A%20null%2C%0A%20%20%22dashOffset%22%3A%20null%2C%0A%20%20%22fill%22%3A%20true%2C%0A%20%20%22fillColor%22%3A%20%22%233388ff%22%2C%0A%20%20%22fillOpacity%22%3A%200.7%2C%0A%20%20%22fillRule%22%3A%20%22evenodd%22%2C%0A%20%20%22lineCap%22%3A%20%22round%22%2C%0A%20%20%22lineJoin%22%3A%20%22round%22%2C%0A%20%20%22opacity%22%3A%201.0%2C%0A%20%20%22radius%22%3A%205%2C%0A%20%20%22stroke%22%3A%20true%2C%0A%20%20%22weight%22%3A%203%0A%7D%0A%20%20%20%20%20%20%20%20%20%20%20%20%20%20%20%20%29%0A%20%20%20%20%20%20%20%20%20%20%20%20%20%20%20%20.addTo%28map_72fcdd84252a441e930302e6331b803d%29%3B%0A%20%20%20%20%20%20%20%20%20%20%20%20%0A%20%20%20%20%0A%20%20%20%20%20%20%20%20%20%20%20%20var%20popup_615c78ad60cf4b3bb0e2adb2a7c6cd92%20%3D%20L.popup%28%7BmaxWidth%3A%20%27100%25%27%0A%20%20%20%20%20%20%20%20%20%20%20%20%0A%20%20%20%20%20%20%20%20%20%20%20%20%7D%29%3B%0A%0A%20%20%20%20%20%20%20%20%20%20%20%20%0A%20%20%20%20%20%20%20%20%20%20%20%20%20%20%20%20var%20html_fc095eec39204e72a1c2a0c7338b749d%20%3D%20%24%28%60%3Cdiv%20id%3D%22html_fc095eec39204e72a1c2a0c7338b749d%22%20style%3D%22width%3A%20100.0%25%3B%20height%3A%20100.0%25%3B%22%3EAguas%20Calientes%20Cluster%201.0%3C/div%3E%60%29%5B0%5D%3B%0A%20%20%20%20%20%20%20%20%20%20%20%20%20%20%20%20popup_615c78ad60cf4b3bb0e2adb2a7c6cd92.setContent%28html_fc095eec39204e72a1c2a0c7338b749d%29%3B%0A%20%20%20%20%20%20%20%20%20%20%20%20%0A%0A%20%20%20%20%20%20%20%20%20%20%20%20circle_marker_31c5fd416e224a98afc781ca56c550a1.bindPopup%28popup_615c78ad60cf4b3bb0e2adb2a7c6cd92%29%0A%20%20%20%20%20%20%20%20%20%20%20%20%3B%0A%0A%20%20%20%20%20%20%20%20%20%20%20%20%0A%20%20%20%20%20%20%20%20%0A%20%20%20%20%0A%20%20%20%20%20%20%20%20%20%20%20%20var%20circle_marker_9e67174d9289467c9cf7856fd90e6a72%20%3D%20L.circleMarker%28%0A%20%20%20%20%20%20%20%20%20%20%20%20%20%20%20%20%5B10.46%2C%20-68.01%5D%2C%0A%20%20%20%20%20%20%20%20%20%20%20%20%20%20%20%20%7B%0A%20%20%22bubblingMouseEvents%22%3A%20true%2C%0A%20%20%22color%22%3A%20%22%233388ff%22%2C%0A%20%20%22dashArray%22%3A%20null%2C%0A%20%20%22dashOffset%22%3A%20null%2C%0A%20%20%22fill%22%3A%20true%2C%0A%20%20%22fillColor%22%3A%20%22%233388ff%22%2C%0A%20%20%22fillOpacity%22%3A%200.7%2C%0A%20%20%22fillRule%22%3A%20%22evenodd%22%2C%0A%20%20%22lineCap%22%3A%20%22round%22%2C%0A%20%20%22lineJoin%22%3A%20%22round%22%2C%0A%20%20%22opacity%22%3A%201.0%2C%0A%20%20%22radius%22%3A%205%2C%0A%20%20%22stroke%22%3A%20true%2C%0A%20%20%22weight%22%3A%203%0A%7D%0A%20%20%20%20%20%20%20%20%20%20%20%20%20%20%20%20%29%0A%20%20%20%20%20%20%20%20%20%20%20%20%20%20%20%20.addTo%28map_72fcdd84252a441e930302e6331b803d%29%3B%0A%20%20%20%20%20%20%20%20%20%20%20%20%0A%20%20%20%20%0A%20%20%20%20%20%20%20%20%20%20%20%20var%20popup_daaa96ccdd7d4a468ef7e78dbb87f06a%20%3D%20L.popup%28%7BmaxWidth%3A%20%27100%25%27%0A%20%20%20%20%20%20%20%20%20%20%20%20%0A%20%20%20%20%20%20%20%20%20%20%20%20%7D%29%3B%0A%0A%20%20%20%20%20%20%20%20%20%20%20%20%0A%20%20%20%20%20%20%20%20%20%20%20%20%20%20%20%20var%20html_5e5bdbbf37ad4ea79c1bf0a5f75bfe78%20%3D%20%24%28%60%3Cdiv%20id%3D%22html_5e5bdbbf37ad4ea79c1bf0a5f75bfe78%22%20style%3D%22width%3A%20100.0%25%3B%20height%3A%20100.0%25%3B%22%3EMariara%20Cluster%201.0%3C/div%3E%60%29%5B0%5D%3B%0A%20%20%20%20%20%20%20%20%20%20%20%20%20%20%20%20popup_daaa96ccdd7d4a468ef7e78dbb87f06a.setContent%28html_5e5bdbbf37ad4ea79c1bf0a5f75bfe78%29%3B%0A%20%20%20%20%20%20%20%20%20%20%20%20%0A%0A%20%20%20%20%20%20%20%20%20%20%20%20circle_marker_9e67174d9289467c9cf7856fd90e6a72.bindPopup%28popup_daaa96ccdd7d4a468ef7e78dbb87f06a%29%0A%20%20%20%20%20%20%20%20%20%20%20%20%3B%0A%0A%20%20%20%20%20%20%20%20%20%20%20%20%0A%20%20%20%20%20%20%20%20%0A%20%20%20%20%0A%20%20%20%20%20%20%20%20%20%20%20%20var%20circle_marker_74d8b9000c2a4c578c1054a035bd9003%20%3D%20L.circleMarker%28%0A%20%20%20%20%20%20%20%20%20%20%20%20%20%20%20%20%5B10.2611%2C%20-67.7928%5D%2C%0A%20%20%20%20%20%20%20%20%20%20%20%20%20%20%20%20%7B%0A%20%20%22bubblingMouseEvents%22%3A%20true%2C%0A%20%20%22color%22%3A%20%22%233388ff%22%2C%0A%20%20%22dashArray%22%3A%20null%2C%0A%20%20%22dashOffset%22%3A%20null%2C%0A%20%20%22fill%22%3A%20true%2C%0A%20%20%22fillColor%22%3A%20%22%233388ff%22%2C%0A%20%20%22fillOpacity%22%3A%200.7%2C%0A%20%20%22fillRule%22%3A%20%22evenodd%22%2C%0A%20%20%22lineCap%22%3A%20%22round%22%2C%0A%20%20%22lineJoin%22%3A%20%22round%22%2C%0A%20%20%22opacity%22%3A%201.0%2C%0A%20%20%22radius%22%3A%205%2C%0A%20%20%22stroke%22%3A%20true%2C%0A%20%20%22weight%22%3A%203%0A%7D%0A%20%20%20%20%20%20%20%20%20%20%20%20%20%20%20%20%29%0A%20%20%20%20%20%20%20%20%20%20%20%20%20%20%20%20.addTo%28map_72fcdd84252a441e930302e6331b803d%29%3B%0A%20%20%20%20%20%20%20%20%20%20%20%20%0A%20%20%20%20%0A%20%20%20%20%20%20%20%20%20%20%20%20var%20popup_e34663b9126c49438e67f5708ee16b62%20%3D%20L.popup%28%7BmaxWidth%3A%20%27100%25%27%0A%20%20%20%20%20%20%20%20%20%20%20%20%0A%20%20%20%20%20%20%20%20%20%20%20%20%7D%29%3B%0A%0A%20%20%20%20%20%20%20%20%20%20%20%20%0A%20%20%20%20%20%20%20%20%20%20%20%20%20%20%20%20var%20html_0eb7d2d80b0c4e228916e844851d08f2%20%3D%20%24%28%60%3Cdiv%20id%3D%22html_0eb7d2d80b0c4e228916e844851d08f2%22%20style%3D%22width%3A%20100.0%25%3B%20height%3A%20100.0%25%3B%22%3ECiudad%20Alianza%20Cluster%200.0%3C/div%3E%60%29%5B0%5D%3B%0A%20%20%20%20%20%20%20%20%20%20%20%20%20%20%20%20popup_e34663b9126c49438e67f5708ee16b62.setContent%28html_0eb7d2d80b0c4e228916e844851d08f2%29%3B%0A%20%20%20%20%20%20%20%20%20%20%20%20%0A%0A%20%20%20%20%20%20%20%20%20%20%20%20circle_marker_74d8b9000c2a4c578c1054a035bd9003.bindPopup%28popup_e34663b9126c49438e67f5708ee16b62%29%0A%20%20%20%20%20%20%20%20%20%20%20%20%3B%0A%0A%20%20%20%20%20%20%20%20%20%20%20%20%0A%20%20%20%20%20%20%20%20%0A%20%20%20%20%0A%20%20%20%20%20%20%20%20%20%20%20%20var%20circle_marker_8ff7fca48ed04370b0c165a8826efac7%20%3D%20L.circleMarker%28%0A%20%20%20%20%20%20%20%20%20%20%20%20%20%20%20%20%5B10.1741%2C%20-67.9998%5D%2C%0A%20%20%20%20%20%20%20%20%20%20%20%20%20%20%20%20%7B%0A%20%20%22bubblingMouseEvents%22%3A%20true%2C%0A%20%20%22color%22%3A%20%22%233388ff%22%2C%0A%20%20%22dashArray%22%3A%20null%2C%0A%20%20%22dashOffset%22%3A%20null%2C%0A%20%20%22fill%22%3A%20true%2C%0A%20%20%22fillColor%22%3A%20%22%233388ff%22%2C%0A%20%20%22fillOpacity%22%3A%200.7%2C%0A%20%20%22fillRule%22%3A%20%22evenodd%22%2C%0A%20%20%22lineCap%22%3A%20%22round%22%2C%0A%20%20%22lineJoin%22%3A%20%22round%22%2C%0A%20%20%22opacity%22%3A%201.0%2C%0A%20%20%22radius%22%3A%205%2C%0A%20%20%22stroke%22%3A%20true%2C%0A%20%20%22weight%22%3A%203%0A%7D%0A%20%20%20%20%20%20%20%20%20%20%20%20%20%20%20%20%29%0A%20%20%20%20%20%20%20%20%20%20%20%20%20%20%20%20.addTo%28map_72fcdd84252a441e930302e6331b803d%29%3B%0A%20%20%20%20%20%20%20%20%20%20%20%20%0A%20%20%20%20%0A%20%20%20%20%20%20%20%20%20%20%20%20var%20popup_f87a4de2ef3e47e3b2a7b5d726afdd3f%20%3D%20L.popup%28%7BmaxWidth%3A%20%27100%25%27%0A%20%20%20%20%20%20%20%20%20%20%20%20%0A%20%20%20%20%20%20%20%20%20%20%20%20%7D%29%3B%0A%0A%20%20%20%20%20%20%20%20%20%20%20%20%0A%20%20%20%20%20%20%20%20%20%20%20%20%20%20%20%20var%20html_f9420ca9b97546e5b5adb4a22c13b787%20%3D%20%24%28%60%3Cdiv%20id%3D%22html_f9420ca9b97546e5b5adb4a22c13b787%22%20style%3D%22width%3A%20100.0%25%3B%20height%3A%20100.0%25%3B%22%3E%20Guacara%20Cluster%204.0%3C/div%3E%60%29%5B0%5D%3B%0A%20%20%20%20%20%20%20%20%20%20%20%20%20%20%20%20popup_f87a4de2ef3e47e3b2a7b5d726afdd3f.setContent%28html_f9420ca9b97546e5b5adb4a22c13b787%29%3B%0A%20%20%20%20%20%20%20%20%20%20%20%20%0A%0A%20%20%20%20%20%20%20%20%20%20%20%20circle_marker_8ff7fca48ed04370b0c165a8826efac7.bindPopup%28popup_f87a4de2ef3e47e3b2a7b5d726afdd3f%29%0A%20%20%20%20%20%20%20%20%20%20%20%20%3B%0A%0A%20%20%20%20%20%20%20%20%20%20%20%20%0A%20%20%20%20%20%20%20%20%0A%3C/script%3E onload=\"this.contentDocument.open();this.contentDocument.write(    decodeURIComponent(this.getAttribute('data-html')));this.contentDocument.close();\" allowfullscreen webkitallowfullscreen mozallowfullscreen></iframe></div></div>"
            ],
            "text/plain": [
              "<folium.folium.Map at 0x7fd2ce4ad048>"
            ]
          },
          "metadata": {
            "tags": []
          },
          "execution_count": 22
        }
      ]
    },
    {
      "cell_type": "markdown",
      "metadata": {
        "id": "NIg3TFix3oJC"
      },
      "source": [
        "## Analysis <a name=\"analysis\"></a>"
      ]
    },
    {
      "cell_type": "markdown",
      "metadata": {
        "id": "lky8GLMC9tOG"
      },
      "source": [
        "Let's perform some basic explanatory data analysis"
      ]
    },
    {
      "cell_type": "code",
      "metadata": {
        "colab": {
          "base_uri": "https://localhost:8080/",
          "height": 110
        },
        "id": "WDVzY3hB7jAi",
        "outputId": "e7ecb57d-3398-468b-ab8e-abf4da2cb6aa"
      },
      "source": [
        "carabobo_merged.loc[carabobo_merged['Cluster Labels'] == 0, carabobo_merged.columns[[1] + list(range(5, carabobo_merged.shape[1]))]]"
      ],
      "execution_count": null,
      "outputs": [
        {
          "output_type": "execute_result",
          "data": {
            "text/html": [
              "<div>\n",
              "<style scoped>\n",
              "    .dataframe tbody tr th:only-of-type {\n",
              "        vertical-align: middle;\n",
              "    }\n",
              "\n",
              "    .dataframe tbody tr th {\n",
              "        vertical-align: top;\n",
              "    }\n",
              "\n",
              "    .dataframe thead th {\n",
              "        text-align: right;\n",
              "    }\n",
              "</style>\n",
              "<table border=\"1\" class=\"dataframe\">\n",
              "  <thead>\n",
              "    <tr style=\"text-align: right;\">\n",
              "      <th></th>\n",
              "      <th>Neighborhood</th>\n",
              "      <th>1st Most Common Venue</th>\n",
              "      <th>2nd Most Common Venue</th>\n",
              "      <th>3rd Most Common Venue</th>\n",
              "      <th>4th Most Common Venue</th>\n",
              "      <th>5th Most Common Venue</th>\n",
              "      <th>6th Most Common Venue</th>\n",
              "      <th>7th Most Common Venue</th>\n",
              "      <th>8th Most Common Venue</th>\n",
              "      <th>9th Most Common Venue</th>\n",
              "      <th>10th Most Common Venue</th>\n",
              "    </tr>\n",
              "  </thead>\n",
              "  <tbody>\n",
              "    <tr>\n",
              "      <th>12</th>\n",
              "      <td>Ciudad Alianza</td>\n",
              "      <td>Shopping Mall</td>\n",
              "      <td>Bakery</td>\n",
              "      <td>Soccer Field</td>\n",
              "      <td>Bar</td>\n",
              "      <td>Coffee Shop</td>\n",
              "      <td>Department Store</td>\n",
              "      <td>Fast Food Restaurant</td>\n",
              "      <td>Furniture / Home Store</td>\n",
              "      <td>Government Building</td>\n",
              "      <td>Metro Station</td>\n",
              "    </tr>\n",
              "  </tbody>\n",
              "</table>\n",
              "</div>"
            ],
            "text/plain": [
              "      Neighborhood  ... 10th Most Common Venue\n",
              "12  Ciudad Alianza  ...          Metro Station\n",
              "\n",
              "[1 rows x 11 columns]"
            ]
          },
          "metadata": {
            "tags": []
          },
          "execution_count": 23
        }
      ]
    },
    {
      "cell_type": "code",
      "metadata": {
        "colab": {
          "base_uri": "https://localhost:8080/",
          "height": 157
        },
        "id": "Jq1WX0e37-db",
        "outputId": "84357c39-183d-479f-8f0f-6d597c02fae7"
      },
      "source": [
        "carabobo_merged.loc[carabobo_merged['Cluster Labels'] == 1, carabobo_merged.columns[[1] + list(range(5, carabobo_merged.shape[1]))]]"
      ],
      "execution_count": null,
      "outputs": [
        {
          "output_type": "execute_result",
          "data": {
            "text/html": [
              "<div>\n",
              "<style scoped>\n",
              "    .dataframe tbody tr th:only-of-type {\n",
              "        vertical-align: middle;\n",
              "    }\n",
              "\n",
              "    .dataframe tbody tr th {\n",
              "        vertical-align: top;\n",
              "    }\n",
              "\n",
              "    .dataframe thead th {\n",
              "        text-align: right;\n",
              "    }\n",
              "</style>\n",
              "<table border=\"1\" class=\"dataframe\">\n",
              "  <thead>\n",
              "    <tr style=\"text-align: right;\">\n",
              "      <th></th>\n",
              "      <th>Neighborhood</th>\n",
              "      <th>1st Most Common Venue</th>\n",
              "      <th>2nd Most Common Venue</th>\n",
              "      <th>3rd Most Common Venue</th>\n",
              "      <th>4th Most Common Venue</th>\n",
              "      <th>5th Most Common Venue</th>\n",
              "      <th>6th Most Common Venue</th>\n",
              "      <th>7th Most Common Venue</th>\n",
              "      <th>8th Most Common Venue</th>\n",
              "      <th>9th Most Common Venue</th>\n",
              "      <th>10th Most Common Venue</th>\n",
              "    </tr>\n",
              "  </thead>\n",
              "  <tbody>\n",
              "    <tr>\n",
              "      <th>9</th>\n",
              "      <td>Aguas Calientes</td>\n",
              "      <td>Soccer Field</td>\n",
              "      <td>Pizza Place</td>\n",
              "      <td>Bakery</td>\n",
              "      <td>Coffee Shop</td>\n",
              "      <td>Park</td>\n",
              "      <td>BBQ Joint</td>\n",
              "      <td>Plaza</td>\n",
              "      <td>Pie Shop</td>\n",
              "      <td>Pharmacy</td>\n",
              "      <td>Shopping Mall</td>\n",
              "    </tr>\n",
              "    <tr>\n",
              "      <th>10</th>\n",
              "      <td>Mariara</td>\n",
              "      <td>Salad Place</td>\n",
              "      <td>Restaurant</td>\n",
              "      <td>Pie Shop</td>\n",
              "      <td>Fast Food Restaurant</td>\n",
              "      <td>Soccer Field</td>\n",
              "      <td>Furniture / Home Store</td>\n",
              "      <td>Bakery</td>\n",
              "      <td>Bar</td>\n",
              "      <td>Coffee Shop</td>\n",
              "      <td>Department Store</td>\n",
              "    </tr>\n",
              "  </tbody>\n",
              "</table>\n",
              "</div>"
            ],
            "text/plain": [
              "       Neighborhood  ... 10th Most Common Venue\n",
              "9   Aguas Calientes  ...          Shopping Mall\n",
              "10          Mariara  ...       Department Store\n",
              "\n",
              "[2 rows x 11 columns]"
            ]
          },
          "metadata": {
            "tags": []
          },
          "execution_count": 24
        }
      ]
    },
    {
      "cell_type": "code",
      "metadata": {
        "colab": {
          "base_uri": "https://localhost:8080/",
          "height": 110
        },
        "id": "IPsjdVmr8JMW",
        "outputId": "0615715c-b788-4bc0-8d6c-1a0acaaf31e3"
      },
      "source": [
        "carabobo_merged.loc[carabobo_merged['Cluster Labels'] == 2, carabobo_merged.columns[[1] + list(range(5, carabobo_merged.shape[1]))]]"
      ],
      "execution_count": null,
      "outputs": [
        {
          "output_type": "execute_result",
          "data": {
            "text/html": [
              "<div>\n",
              "<style scoped>\n",
              "    .dataframe tbody tr th:only-of-type {\n",
              "        vertical-align: middle;\n",
              "    }\n",
              "\n",
              "    .dataframe tbody tr th {\n",
              "        vertical-align: top;\n",
              "    }\n",
              "\n",
              "    .dataframe thead th {\n",
              "        text-align: right;\n",
              "    }\n",
              "</style>\n",
              "<table border=\"1\" class=\"dataframe\">\n",
              "  <thead>\n",
              "    <tr style=\"text-align: right;\">\n",
              "      <th></th>\n",
              "      <th>Neighborhood</th>\n",
              "      <th>1st Most Common Venue</th>\n",
              "      <th>2nd Most Common Venue</th>\n",
              "      <th>3rd Most Common Venue</th>\n",
              "      <th>4th Most Common Venue</th>\n",
              "      <th>5th Most Common Venue</th>\n",
              "      <th>6th Most Common Venue</th>\n",
              "      <th>7th Most Common Venue</th>\n",
              "      <th>8th Most Common Venue</th>\n",
              "      <th>9th Most Common Venue</th>\n",
              "      <th>10th Most Common Venue</th>\n",
              "    </tr>\n",
              "  </thead>\n",
              "  <tbody>\n",
              "    <tr>\n",
              "      <th>3</th>\n",
              "      <td>Simón Bolívar</td>\n",
              "      <td>Plaza</td>\n",
              "      <td>Furniture / Home Store</td>\n",
              "      <td>Soccer Field</td>\n",
              "      <td>Government Building</td>\n",
              "      <td>Bakery</td>\n",
              "      <td>Bar</td>\n",
              "      <td>Coffee Shop</td>\n",
              "      <td>Department Store</td>\n",
              "      <td>Fast Food Restaurant</td>\n",
              "      <td>Metro Station</td>\n",
              "    </tr>\n",
              "  </tbody>\n",
              "</table>\n",
              "</div>"
            ],
            "text/plain": [
              "    Neighborhood  ... 10th Most Common Venue\n",
              "3  Simón Bolívar  ...          Metro Station\n",
              "\n",
              "[1 rows x 11 columns]"
            ]
          },
          "metadata": {
            "tags": []
          },
          "execution_count": 25
        }
      ]
    },
    {
      "cell_type": "code",
      "metadata": {
        "colab": {
          "base_uri": "https://localhost:8080/",
          "height": 110
        },
        "id": "QnL-RJ1U8LYE",
        "outputId": "d8c84ced-0b3f-40bf-d21a-302850cee944"
      },
      "source": [
        "carabobo_merged.loc[carabobo_merged['Cluster Labels'] == 3, carabobo_merged.columns[[1] + list(range(5, carabobo_merged.shape[1]))]]"
      ],
      "execution_count": null,
      "outputs": [
        {
          "output_type": "execute_result",
          "data": {
            "text/html": [
              "<div>\n",
              "<style scoped>\n",
              "    .dataframe tbody tr th:only-of-type {\n",
              "        vertical-align: middle;\n",
              "    }\n",
              "\n",
              "    .dataframe tbody tr th {\n",
              "        vertical-align: top;\n",
              "    }\n",
              "\n",
              "    .dataframe thead th {\n",
              "        text-align: right;\n",
              "    }\n",
              "</style>\n",
              "<table border=\"1\" class=\"dataframe\">\n",
              "  <thead>\n",
              "    <tr style=\"text-align: right;\">\n",
              "      <th></th>\n",
              "      <th>Neighborhood</th>\n",
              "      <th>1st Most Common Venue</th>\n",
              "      <th>2nd Most Common Venue</th>\n",
              "      <th>3rd Most Common Venue</th>\n",
              "      <th>4th Most Common Venue</th>\n",
              "      <th>5th Most Common Venue</th>\n",
              "      <th>6th Most Common Venue</th>\n",
              "      <th>7th Most Common Venue</th>\n",
              "      <th>8th Most Common Venue</th>\n",
              "      <th>9th Most Common Venue</th>\n",
              "      <th>10th Most Common Venue</th>\n",
              "    </tr>\n",
              "  </thead>\n",
              "  <tbody>\n",
              "    <tr>\n",
              "      <th>1</th>\n",
              "      <td>Bejuma</td>\n",
              "      <td>Government Building</td>\n",
              "      <td>Pharmacy</td>\n",
              "      <td>Soccer Field</td>\n",
              "      <td>Bakery</td>\n",
              "      <td>Bar</td>\n",
              "      <td>Coffee Shop</td>\n",
              "      <td>Department Store</td>\n",
              "      <td>Fast Food Restaurant</td>\n",
              "      <td>Furniture / Home Store</td>\n",
              "      <td>Metro Station</td>\n",
              "    </tr>\n",
              "  </tbody>\n",
              "</table>\n",
              "</div>"
            ],
            "text/plain": [
              "  Neighborhood  ... 10th Most Common Venue\n",
              "1       Bejuma  ...          Metro Station\n",
              "\n",
              "[1 rows x 11 columns]"
            ]
          },
          "metadata": {
            "tags": []
          },
          "execution_count": 26
        }
      ]
    },
    {
      "cell_type": "code",
      "metadata": {
        "id": "klKh2bic8Quo",
        "colab": {
          "base_uri": "https://localhost:8080/",
          "height": 110
        },
        "outputId": "3fe05cc0-eba5-4a04-c299-ac9d5fbc1f9e"
      },
      "source": [
        "carabobo_merged.loc[carabobo_merged['Cluster Labels'] == 4, carabobo_merged.columns[[1] + list(range(5, carabobo_merged.shape[1]))]]"
      ],
      "execution_count": null,
      "outputs": [
        {
          "output_type": "execute_result",
          "data": {
            "text/html": [
              "<div>\n",
              "<style scoped>\n",
              "    .dataframe tbody tr th:only-of-type {\n",
              "        vertical-align: middle;\n",
              "    }\n",
              "\n",
              "    .dataframe tbody tr th {\n",
              "        vertical-align: top;\n",
              "    }\n",
              "\n",
              "    .dataframe thead th {\n",
              "        text-align: right;\n",
              "    }\n",
              "</style>\n",
              "<table border=\"1\" class=\"dataframe\">\n",
              "  <thead>\n",
              "    <tr style=\"text-align: right;\">\n",
              "      <th></th>\n",
              "      <th>Neighborhood</th>\n",
              "      <th>1st Most Common Venue</th>\n",
              "      <th>2nd Most Common Venue</th>\n",
              "      <th>3rd Most Common Venue</th>\n",
              "      <th>4th Most Common Venue</th>\n",
              "      <th>5th Most Common Venue</th>\n",
              "      <th>6th Most Common Venue</th>\n",
              "      <th>7th Most Common Venue</th>\n",
              "      <th>8th Most Common Venue</th>\n",
              "      <th>9th Most Common Venue</th>\n",
              "      <th>10th Most Common Venue</th>\n",
              "    </tr>\n",
              "  </thead>\n",
              "  <tbody>\n",
              "    <tr>\n",
              "      <th>13</th>\n",
              "      <td>Guacara</td>\n",
              "      <td>Metro Station</td>\n",
              "      <td>Bar</td>\n",
              "      <td>Department Store</td>\n",
              "      <td>Shopping Mall</td>\n",
              "      <td>Bakery</td>\n",
              "      <td>Coffee Shop</td>\n",
              "      <td>Fast Food Restaurant</td>\n",
              "      <td>Furniture / Home Store</td>\n",
              "      <td>Government Building</td>\n",
              "      <td>Soccer Field</td>\n",
              "    </tr>\n",
              "  </tbody>\n",
              "</table>\n",
              "</div>"
            ],
            "text/plain": [
              "   Neighborhood  ... 10th Most Common Venue\n",
              "13      Guacara  ...           Soccer Field\n",
              "\n",
              "[1 rows x 11 columns]"
            ]
          },
          "metadata": {
            "tags": []
          },
          "execution_count": 27
        }
      ]
    },
    {
      "cell_type": "markdown",
      "metadata": {
        "id": "lswy1eAY-p_J"
      },
      "source": [
        "## Results and Discussion <a name=\"results\"></a>"
      ]
    },
    {
      "cell_type": "markdown",
      "metadata": {
        "id": "Tx41B_vEAGZP"
      },
      "source": [
        "The analysis shows that although there is a great number of venues in Carabobo, Highest concentration of venues was detected in ciudad alianza, Aguas Calientes, Mariara, guacara, aguas calientes y bejuma, so I focused my attention in this areas.\n",
        "Those location candidates were then clustered to create zones of interest which contain greatest number of venues. Addresses of centers of those zones were also generated using reverse geocoding to be used as markers/starting points for more detailed local analysis based on other factors.\n",
        "This, of course, does not imply that those zones are actually optimal locations for a new people to live, Purpose of this analysis was to only provide info on areas information about the zone with more venues varieties, it is entirely possible that there is a very good starting point to look the zones what fix best with the people. \n",
        "Recommended zones should therefore be considered only as a starting point for more detailed analysis which can integrate other information like prices of houses, schools etc. \n",
        "\n",
        "\n"
      ]
    },
    {
      "cell_type": "markdown",
      "metadata": {
        "id": "2PefyzS6N2TU"
      },
      "source": [
        "## Conclusion <a name=\"conclusion\"></a>"
      ]
    },
    {
      "cell_type": "markdown",
      "metadata": {
        "id": "18GFRHuhN8oB"
      },
      "source": [
        "Purpose of this project was to identify the zones with the more venues quantity, to give the people who wants to live in carabobo a best perspective aboute the zone. By calculating venues density distribution from Foursquare data we have first identified the zones with venues. Clustering of those locations was then performed in order to create major zones of interest (containing greatest number of venues).\n",
        "\n"
      ]
    }
  ]
}