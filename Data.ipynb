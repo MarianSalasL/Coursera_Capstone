{
  "nbformat": 4,
  "nbformat_minor": 0,
  "metadata": {
    "colab": {
      "name": "Data.ipynb",
      "provenance": []
    },
    "kernelspec": {
      "name": "python3",
      "display_name": "Python 3"
    }
  },
  "cells": [
    {
      "cell_type": "markdown",
      "metadata": {
        "id": "NoSvXK_Z7aw1"
      },
      "source": [
        "## The Battle of Neighborhoods | Data Description"
      ]
    },
    {
      "cell_type": "markdown",
      "metadata": {
        "id": "W1jlPIRN7dNo"
      },
      "source": [
        "**Data Description:**"
      ]
    },
    {
      "cell_type": "markdown",
      "metadata": {
        "id": "oObx1lRD-p1D"
      },
      "source": [
        "Data link: https://es.wikipedia.org/wiki/Anexo:Municipios_de_Carabobo\r\n"
      ]
    },
    {
      "cell_type": "markdown",
      "metadata": {
        "id": "hpahcap3A_f1"
      },
      "source": [
        "**Foursquare API Data:**\r\n",
        "\r\n"
      ]
    },
    {
      "cell_type": "markdown",
      "metadata": {
        "id": "aYgj4DutBFW1"
      },
      "source": [
        "The data taken from the API per venue is:\r\n",
        "\r\n",
        "1. Neighborhood\r\n",
        "2. Neighborhood Latitude\r\n",
        "3. Neighborhood Longitude\r\n",
        "4. Venue\r\n",
        "5. Name of the venue e.g. the name of a store or restaurant\r\n",
        "6. Venue Latitude\r\n",
        "7. Venue Longitude\r\n",
        "8. Venue Category\r\n",
        "\r\n",
        "\r\n",
        "\r\n",
        "\r\n"
      ]
    }
  ]
}