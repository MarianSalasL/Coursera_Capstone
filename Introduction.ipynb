{
  "nbformat": 4,
  "nbformat_minor": 0,
  "metadata": {
    "colab": {
      "name": "Introduction",
      "provenance": []
    },
    "kernelspec": {
      "name": "python3",
      "display_name": "Python 3"
    }
  },
  "cells": [
    {
      "cell_type": "markdown",
      "metadata": {
        "id": "lU7VLh-kE0xw"
      },
      "source": [
        "## **The Battle of Neighborhoods | Business Proposal | Introduction**"
      ]
    },
    {
      "cell_type": "markdown",
      "metadata": {
        "id": "fadkkLChYUy6"
      },
      "source": [
        "**Introduction:**"
      ]
    },
    {
      "cell_type": "markdown",
      "metadata": {
        "id": "pqyLqsIvYxY_"
      },
      "source": [
        "The objective of this project, is give the people a tool that they will can explore their neighborhood with, it will can help people than want to know about the best site to live in carabobo venezuela.\r\n",
        "\r\n",
        "Carabobo is a industrial state, whence a lot of people need to migrate to this state, for this reason is important have a tool that can help people to make better and smarter decisions.  \r\n",
        "\r\n",
        "In this project I'm going to create an analysis of features for people who are searching about the best places, doing a comparative analisys between neighbohood.\r\n",
        "\r\n",
        "It will help people to get best decitions about the sites that they visit, improving their satisfaction. "
      ]
    },
    {
      "cell_type": "markdown",
      "metadata": {
        "id": "PdUWmWijxaBX"
      },
      "source": [
        "**Foursquare API:**\r\n"
      ]
    },
    {
      "cell_type": "markdown",
      "metadata": {
        "id": "WyRM_rfZygHk"
      },
      "source": [
        "In the project I will use Forsquare API, It has a big database which provides locations and details about business in this locations"
      ]
    },
    {
      "cell_type": "markdown",
      "metadata": {
        "id": "uNe5keJL0ccG"
      },
      "source": [
        "**Clustering Approach:**\r\n"
      ]
    },
    {
      "cell_type": "markdown",
      "metadata": {
        "id": "54nWahnp1CzZ"
      },
      "source": [
        "To compare the neighborhood, I decided to explore neighborhoods, segment them and group into clusters to find simillarities.\r\n",
        "\r\n",
        "To cluster the data I need a form of unsupervised machine learning (K-means clustering algorithm)"
      ]
    },
    {
      "cell_type": "markdown",
      "metadata": {
        "id": "TmUpVe3s3UOE"
      },
      "source": [
        "**Libraries**\r\n"
      ]
    },
    {
      "cell_type": "markdown",
      "metadata": {
        "id": "ffKXka8i3ZMX"
      },
      "source": [
        "Pandas: For dataframes.\r\n",
        "\r\n",
        "Folium: Python visualization library would be used to visualize the neighborhoods cluster distribution of using interactive leaflet map.\r\n",
        "\r\n",
        "Scikit Learn: For importing k-means clustering.\r\n",
        "\r\n",
        "Geocoder: To retrieve Location Data.\r\n",
        "\r\n",
        "Beautiful Soup and Requests: To scrap the web pages.\r\n",
        "\r\n",
        "Matplotlib: to make plots\r\n",
        "\r\n",
        "Numpy: To manage the math data"
      ]
    }
  ]
}