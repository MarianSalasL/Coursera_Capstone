{
  "nbformat": 4,
  "nbformat_minor": 0,
  "metadata": {
    "colab": {
      "name": "Segmenting and Clustering Neighborhoods in Toronto",
      "provenance": []
    },
    "kernelspec": {
      "name": "python3",
      "display_name": "Python 3"
    }
  },
  "cells": [
    {
      "cell_type": "markdown",
      "metadata": {
        "id": "eJ9I3csD-fdA"
      },
      "source": [
        "First we import all the librarys that we will use"
      ]
    },
    {
      "cell_type": "code",
      "metadata": {
        "id": "t5osnjGdwu5_"
      },
      "source": [
        "import pandas as pd\r\n",
        "import requests\r\n",
        "from bs4 import BeautifulSoup"
      ],
      "execution_count": 1,
      "outputs": []
    },
    {
      "cell_type": "markdown",
      "metadata": {
        "id": "k-AURghN_ETe"
      },
      "source": [
        "Next to it, we need to get te url "
      ]
    },
    {
      "cell_type": "code",
      "metadata": {
        "id": "VVxx9c5zx-_K"
      },
      "source": [
        "url=requests.get('https://en.wikipedia.org/wiki/List_of_postal_codes_of_Canada:_M').text\r\n",
        "soup=BeautifulSoup(url)"
      ],
      "execution_count": 2,
      "outputs": []
    },
    {
      "cell_type": "markdown",
      "metadata": {
        "id": "rLCPjLd6_mEa"
      },
      "source": [
        "In the next cell, I found the table and created the list of our columns: Postal code, Borough, Neighbourhood then I iterated through all the table to find the tags \"tr\" and \"td\" which had our information, next I appended the strings in the list accorded the case was, also I used rstrip() to delete \"\\n\"\r\n"
      ]
    },
    {
      "cell_type": "code",
      "metadata": {
        "id": "v6uLzlSmyB0n"
      },
      "source": [
        "My_table = soup.find('table',{\"class\":'wikitable sortable'})\r\n",
        "Postal_Code=[]\r\n",
        "Borough=[]\r\n",
        "Neighbourhood=[]\r\n",
        "for table in My_table:\r\n",
        "    rows = My_table.find_all('tr')\r\n",
        "    for row in rows:\r\n",
        "        cells= row.find_all('td')\r\n",
        "        if len(cells)>1:\r\n",
        "                Postal= cells[0]\r\n",
        "                Postal_Code.append(Postal.text.rstrip(\"\\n\"))\r\n",
        "                Bor= cells[1]\r\n",
        "                Borough.append(Bor.text.rstrip(\"\\n\"))\r\n",
        "                Ne=cells[2]\r\n",
        "                Neighbourhood.append(Ne.text.rstrip(\"\\n\"))\r\n",
        "               "
      ],
      "execution_count": 3,
      "outputs": []
    },
    {
      "cell_type": "markdown",
      "metadata": {
        "id": "JFf7ywYpVr5o"
      },
      "source": [
        "Finally, I made a dictionary, and next the data frame, also I used drop() to eliminate rows with \"no assigned\""
      ]
    },
    {
      "cell_type": "code",
      "metadata": {
        "colab": {
          "base_uri": "https://localhost:8080/"
        },
        "id": "heoCP2o3yF-9",
        "outputId": "c6ecd64c-324d-4d1c-c860-319e6e191760"
      },
      "source": [
        "Dict={}\r\n",
        "Dict['Postal Code']=Postal_Code\r\n",
        "Dict['Borough']= Borough\r\n",
        "Dict['Neighbourhood']= Neighbourhood\r\n",
        "df=pd.DataFrame(data=Dict)\r\n",
        "indexNames = df[ (df['Borough'] == \"Not assigned\") | (df['Neighbourhood'] == \"Not assigned\") ].index\r\n",
        "df.drop(indexNames , inplace=True)\r\n",
        "df"
      ],
      "execution_count": 24,
      "outputs": [
        {
          "output_type": "stream",
          "text": [
            "    Postal Code  ...                                      Neighbourhood\n",
            "2           M3A  ...                                          Parkwoods\n",
            "3           M4A  ...                                   Victoria Village\n",
            "4           M5A  ...                          Regent Park, Harbourfront\n",
            "5           M6A  ...                   Lawrence Manor, Lawrence Heights\n",
            "6           M7A  ...        Queen's Park, Ontario Provincial Government\n",
            "..          ...  ...                                                ...\n",
            "340         M8X  ...      The Kingsway, Montgomery Road, Old Mill North\n",
            "345         M4Y  ...                               Church and Wellesley\n",
            "348         M7Y  ...  Business reply mail Processing Centre, South C...\n",
            "349         M8Y  ...  Old Mill South, King's Mill Park, Sunnylea, Hu...\n",
            "358         M8Z  ...  Mimico NW, The Queensway West, South of Bloor,...\n",
            "\n",
            "[206 rows x 3 columns]\n"
          ],
          "name": "stdout"
        }
      ]
    },
    {
      "cell_type": "code",
      "metadata": {
        "colab": {
          "base_uri": "https://localhost:8080/"
        },
        "id": "n2bQUmH93tzK",
        "outputId": "f7f11406-5be9-4b23-ce18-843b581a6ef5"
      },
      "source": [
        "df.shape"
      ],
      "execution_count": 25,
      "outputs": [
        {
          "output_type": "execute_result",
          "data": {
            "text/plain": [
              "(206, 3)"
            ]
          },
          "metadata": {
            "tags": []
          },
          "execution_count": 25
        }
      ]
    }
  ]
}